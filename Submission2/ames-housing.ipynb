{
 "cells": [
  {
   "cell_type": "markdown",
   "metadata": {},
   "source": [
    "# Homework 3 - Ames Housing Dataset"
   ]
  },
  {
   "cell_type": "markdown",
   "metadata": {},
   "source": [
    "For all parts below, answer all parts as shown in the Google document for Homework 3. Be sure to include both code that justifies your answer as well as text to answer the questions. We also ask that code be commented to make it easier to follow."
   ]
  },
  {
   "cell_type": "markdown",
   "metadata": {},
   "source": [
    "## Part 1 - Pairwise Correlations"
   ]
  },
  {
   "cell_type": "markdown",
   "metadata": {},
   "source": [
    "I have taken the following columns for finding the Pearson Correlation Coefficient between them. All of them are numerical columns. I have also included Sale Price in the correlation analysis as I feel that would be pretty helpful to analyse the correlation of different variables with the Sale Price and those maybe the potential candidates to include in our prediction model.\n",
    "\n",
    "1)  LotFrontage  \n",
    "2)  LotArea \n",
    "3)  OverallQual \n",
    "4)  OverallCond \n",
    "5)  SalePrice \n",
    "6)  GarageArea \n",
    "7)  TotRmsAbvGrd\n",
    "8)  TotalBsmtSF\n",
    "9)  YearRemodAdd\n",
    "10) GrLivArea\n",
    "11) YearBuilt\n",
    "12) BedroomAbvGr\n",
    "13) GarageYrBlt\n",
    "14) 2ndFlrSF\n",
    "15) LowQualFinSF"
   ]
  },
  {
   "cell_type": "code",
   "execution_count": 534,
   "metadata": {
    "scrolled": true
   },
   "outputs": [
    {
     "name": "stdout",
     "output_type": "stream",
     "text": [
      "Requirement already satisfied: xgboost in c:\\users\\rutvi\\appdata\\local\\continuum\\anaconda3\\lib\\site-packages (0.90)\n",
      "Requirement already satisfied: scipy in c:\\users\\rutvi\\appdata\\local\\continuum\\anaconda3\\lib\\site-packages (from xgboost) (1.2.1)\n",
      "Requirement already satisfied: numpy in c:\\users\\rutvi\\appdata\\local\\continuum\\anaconda3\\lib\\site-packages (from xgboost) (1.16.4)\n"
     ]
    },
    {
     "data": {
      "text/html": [
       "<div>\n",
       "<style scoped>\n",
       "    .dataframe tbody tr th:only-of-type {\n",
       "        vertical-align: middle;\n",
       "    }\n",
       "\n",
       "    .dataframe tbody tr th {\n",
       "        vertical-align: top;\n",
       "    }\n",
       "\n",
       "    .dataframe thead th {\n",
       "        text-align: right;\n",
       "    }\n",
       "</style>\n",
       "<table border=\"1\" class=\"dataframe\">\n",
       "  <thead>\n",
       "    <tr style=\"text-align: right;\">\n",
       "      <th></th>\n",
       "      <th>Id</th>\n",
       "      <th>MSSubClass</th>\n",
       "      <th>MSZoning</th>\n",
       "      <th>LotFrontage</th>\n",
       "      <th>LotArea</th>\n",
       "      <th>Street</th>\n",
       "      <th>Alley</th>\n",
       "      <th>LotShape</th>\n",
       "      <th>LandContour</th>\n",
       "      <th>Utilities</th>\n",
       "      <th>...</th>\n",
       "      <th>PoolArea</th>\n",
       "      <th>PoolQC</th>\n",
       "      <th>Fence</th>\n",
       "      <th>MiscFeature</th>\n",
       "      <th>MiscVal</th>\n",
       "      <th>MoSold</th>\n",
       "      <th>YrSold</th>\n",
       "      <th>SaleType</th>\n",
       "      <th>SaleCondition</th>\n",
       "      <th>SalePrice</th>\n",
       "    </tr>\n",
       "  </thead>\n",
       "  <tbody>\n",
       "    <tr>\n",
       "      <th>0</th>\n",
       "      <td>1</td>\n",
       "      <td>60</td>\n",
       "      <td>RL</td>\n",
       "      <td>65.0</td>\n",
       "      <td>8450</td>\n",
       "      <td>Pave</td>\n",
       "      <td>NaN</td>\n",
       "      <td>Reg</td>\n",
       "      <td>Lvl</td>\n",
       "      <td>AllPub</td>\n",
       "      <td>...</td>\n",
       "      <td>0</td>\n",
       "      <td>NaN</td>\n",
       "      <td>NaN</td>\n",
       "      <td>NaN</td>\n",
       "      <td>0</td>\n",
       "      <td>2</td>\n",
       "      <td>2008</td>\n",
       "      <td>WD</td>\n",
       "      <td>Normal</td>\n",
       "      <td>208500</td>\n",
       "    </tr>\n",
       "    <tr>\n",
       "      <th>1</th>\n",
       "      <td>2</td>\n",
       "      <td>20</td>\n",
       "      <td>RL</td>\n",
       "      <td>80.0</td>\n",
       "      <td>9600</td>\n",
       "      <td>Pave</td>\n",
       "      <td>NaN</td>\n",
       "      <td>Reg</td>\n",
       "      <td>Lvl</td>\n",
       "      <td>AllPub</td>\n",
       "      <td>...</td>\n",
       "      <td>0</td>\n",
       "      <td>NaN</td>\n",
       "      <td>NaN</td>\n",
       "      <td>NaN</td>\n",
       "      <td>0</td>\n",
       "      <td>5</td>\n",
       "      <td>2007</td>\n",
       "      <td>WD</td>\n",
       "      <td>Normal</td>\n",
       "      <td>181500</td>\n",
       "    </tr>\n",
       "    <tr>\n",
       "      <th>2</th>\n",
       "      <td>3</td>\n",
       "      <td>60</td>\n",
       "      <td>RL</td>\n",
       "      <td>68.0</td>\n",
       "      <td>11250</td>\n",
       "      <td>Pave</td>\n",
       "      <td>NaN</td>\n",
       "      <td>IR1</td>\n",
       "      <td>Lvl</td>\n",
       "      <td>AllPub</td>\n",
       "      <td>...</td>\n",
       "      <td>0</td>\n",
       "      <td>NaN</td>\n",
       "      <td>NaN</td>\n",
       "      <td>NaN</td>\n",
       "      <td>0</td>\n",
       "      <td>9</td>\n",
       "      <td>2008</td>\n",
       "      <td>WD</td>\n",
       "      <td>Normal</td>\n",
       "      <td>223500</td>\n",
       "    </tr>\n",
       "    <tr>\n",
       "      <th>3</th>\n",
       "      <td>4</td>\n",
       "      <td>70</td>\n",
       "      <td>RL</td>\n",
       "      <td>60.0</td>\n",
       "      <td>9550</td>\n",
       "      <td>Pave</td>\n",
       "      <td>NaN</td>\n",
       "      <td>IR1</td>\n",
       "      <td>Lvl</td>\n",
       "      <td>AllPub</td>\n",
       "      <td>...</td>\n",
       "      <td>0</td>\n",
       "      <td>NaN</td>\n",
       "      <td>NaN</td>\n",
       "      <td>NaN</td>\n",
       "      <td>0</td>\n",
       "      <td>2</td>\n",
       "      <td>2006</td>\n",
       "      <td>WD</td>\n",
       "      <td>Abnorml</td>\n",
       "      <td>140000</td>\n",
       "    </tr>\n",
       "    <tr>\n",
       "      <th>4</th>\n",
       "      <td>5</td>\n",
       "      <td>60</td>\n",
       "      <td>RL</td>\n",
       "      <td>84.0</td>\n",
       "      <td>14260</td>\n",
       "      <td>Pave</td>\n",
       "      <td>NaN</td>\n",
       "      <td>IR1</td>\n",
       "      <td>Lvl</td>\n",
       "      <td>AllPub</td>\n",
       "      <td>...</td>\n",
       "      <td>0</td>\n",
       "      <td>NaN</td>\n",
       "      <td>NaN</td>\n",
       "      <td>NaN</td>\n",
       "      <td>0</td>\n",
       "      <td>12</td>\n",
       "      <td>2008</td>\n",
       "      <td>WD</td>\n",
       "      <td>Normal</td>\n",
       "      <td>250000</td>\n",
       "    </tr>\n",
       "  </tbody>\n",
       "</table>\n",
       "<p>5 rows × 81 columns</p>\n",
       "</div>"
      ],
      "text/plain": [
       "   Id  MSSubClass MSZoning  LotFrontage  LotArea Street Alley LotShape  \\\n",
       "0   1          60       RL         65.0     8450   Pave   NaN      Reg   \n",
       "1   2          20       RL         80.0     9600   Pave   NaN      Reg   \n",
       "2   3          60       RL         68.0    11250   Pave   NaN      IR1   \n",
       "3   4          70       RL         60.0     9550   Pave   NaN      IR1   \n",
       "4   5          60       RL         84.0    14260   Pave   NaN      IR1   \n",
       "\n",
       "  LandContour Utilities  ... PoolArea PoolQC Fence MiscFeature MiscVal MoSold  \\\n",
       "0         Lvl    AllPub  ...        0    NaN   NaN         NaN       0      2   \n",
       "1         Lvl    AllPub  ...        0    NaN   NaN         NaN       0      5   \n",
       "2         Lvl    AllPub  ...        0    NaN   NaN         NaN       0      9   \n",
       "3         Lvl    AllPub  ...        0    NaN   NaN         NaN       0      2   \n",
       "4         Lvl    AllPub  ...        0    NaN   NaN         NaN       0     12   \n",
       "\n",
       "  YrSold  SaleType  SaleCondition  SalePrice  \n",
       "0   2008        WD         Normal     208500  \n",
       "1   2007        WD         Normal     181500  \n",
       "2   2008        WD         Normal     223500  \n",
       "3   2006        WD        Abnorml     140000  \n",
       "4   2008        WD         Normal     250000  \n",
       "\n",
       "[5 rows x 81 columns]"
      ]
     },
     "execution_count": 534,
     "metadata": {},
     "output_type": "execute_result"
    }
   ],
   "source": [
    "#importing all the necessary libraries\n",
    "\n",
    "import pandas as pd\n",
    "from pandas import *\n",
    "import matplotlib.pyplot as plt\n",
    "import numpy as np\n",
    "import seaborn as sns\n",
    "from scipy.stats.stats import pearsonr\n",
    "import itertools\n",
    "from sklearn.preprocessing import LabelEncoder, OneHotEncoder\n",
    "from sklearn.cluster import AgglomerativeClustering\n",
    "from scipy.cluster.hierarchy import dendrogram, linkage\n",
    "from sklearn.cluster import KMeans\n",
    "from sklearn import linear_model\n",
    "from sklearn.model_selection import train_test_split\n",
    "from sklearn.metrics import accuracy_score\n",
    "from sklearn.metrics import r2_score\n",
    "!pip install xgboost\n",
    "from xgboost import XGBRegressor\n",
    "from sklearn.metrics import mean_squared_error\n",
    "from sklearn.kernel_ridge import KernelRidge\n",
    "from sklearn import linear_model\n",
    "from sklearn import preprocessing\n",
    "\n",
    "train_houses = pd.read_csv('C:/Fall2019/DSF/Assignment2/Data/train.csv')\n",
    "train_houses.head()\n"
   ]
  },
  {
   "cell_type": "code",
   "execution_count": 535,
   "metadata": {},
   "outputs": [
    {
     "name": "stdout",
     "output_type": "stream",
     "text": [
      "                                 PCC\n",
      "YearBuilt__GarageYrBlt      0.824558\n",
      "TotRmsAbvGrd__GrLivArea     0.823793\n",
      "OverallQual__SalePrice      0.799069\n",
      "SalePrice__GrLivArea        0.704202\n",
      "GrLivArea__2ndFlrSF         0.687342\n",
      "TotRmsAbvGrd__BedroomAbvGr  0.650929\n",
      "YearRemodAdd__GarageYrBlt   0.647651\n",
      "YearRemodAdd__YearBuilt     0.625157\n",
      "SalePrice__GarageArea       0.620812\n",
      "TotRmsAbvGrd__2ndFlrSF      0.617704\n",
      "SalePrice__TotalBsmtSF      0.617345\n",
      "OverallQual__GrLivArea      0.606944\n",
      "GarageArea__GarageYrBlt     0.592711\n",
      "OverallQual__YearBuilt      0.590791\n",
      "OverallQual__YearRemodAdd   0.571944\n",
      "OverallQual__TotalBsmtSF    0.565761\n",
      "OverallQual__GarageYrBlt    0.561982\n",
      "OverallQual__GarageArea     0.552446\n",
      "SalePrice__TotRmsAbvGrd     0.544031\n",
      "SalePrice__YearBuilt        0.525195\n",
      "GarageArea__TotalBsmtSF     0.523317\n",
      "SalePrice__YearRemodAdd     0.520913\n",
      "BedroomAbvGr__2ndFlrSF      0.511138\n",
      "GrLivArea__BedroomAbvGr     0.510335\n",
      "SalePrice__GarageYrBlt      0.504690\n",
      "GarageArea__GrLivArea       0.487904\n",
      "GarageArea__YearBuilt       0.471922\n",
      "TotalBsmtSF__GrLivArea      0.464377\n",
      "OverallQual__TotRmsAbvGrd   0.447723\n",
      "LotFrontage__LotArea        0.421760\n",
      "TotalBsmtSF__YearBuilt      0.409777\n",
      "GarageArea__YearRemodAdd    0.408310\n",
      "LotFrontage__GrLivArea      0.396957\n",
      "LotFrontage__TotalBsmtSF    0.388917\n",
      "GarageArea__TotRmsAbvGrd    0.380526\n",
      "LotFrontage__GarageArea     0.357199\n",
      "TotalBsmtSF__GarageYrBlt    0.353830\n",
      "LotFrontage__TotRmsAbvGrd   0.349225\n",
      "LotFrontage__SalePrice      0.345879\n",
      "TotalBsmtSF__YearRemodAdd   0.309803\n",
      "LotArea__GrLivArea          0.307297\n",
      "SalePrice__2ndFlrSF         0.302984\n",
      "LotArea__TotalBsmtSF        0.302551\n",
      "LotArea__SalePrice          0.299455\n",
      "YearRemodAdd__GrLivArea     0.289624\n",
      "TotRmsAbvGrd__TotalBsmtSF   0.281844\n",
      "LotFrontage__BedroomAbvGr   0.270695\n",
      "OverallQual__2ndFlrSF       0.270101\n",
      "GrLivArea__GarageYrBlt      0.243457\n",
      "LotFrontage__OverallQual    0.243025\n",
      "LotArea__TotRmsAbvGrd       0.238426\n",
      "LotArea__GarageArea         0.211345\n",
      "GrLivArea__YearBuilt        0.204875\n",
      "TotRmsAbvGrd__YearRemodAdd  0.179377\n",
      "LotArea__OverallQual        0.167328\n",
      "TotRmsAbvGrd__GarageYrBlt   0.164382\n",
      "SalePrice__BedroomAbvGr     0.161764\n",
      "LotArea__BedroomAbvGr       0.137770\n",
      "GrLivArea__LowQualFinSF     0.121840\n",
      "GarageArea__2ndFlrSF        0.121342\n",
      "TotRmsAbvGrd__YearBuilt     0.118799\n",
      "LotFrontage__YearBuilt      0.109935\n",
      "TotRmsAbvGrd__LowQualFinSF  0.102376\n",
      "YearRemodAdd__2ndFlrSF      0.102239\n",
      "GarageArea__BedroomAbvGr    0.091884\n",
      "OverallQual__BedroomAbvGr   0.089983\n",
      "LotFrontage__YearRemodAdd   0.086702\n",
      "BedroomAbvGr__LowQualFinSF  0.082355\n",
      "LotArea__2ndFlrSF           0.074124\n",
      "LotFrontage__2ndFlrSF       0.073978\n",
      "LotFrontage__GarageYrBlt    0.070250\n",
      "2ndFlrSF__LowQualFinSF      0.062342\n",
      "OverallCond__LowQualFinSF   0.048900\n",
      "GarageYrBlt__2ndFlrSF       0.048563\n",
      "OverallCond__YearRemodAdd   0.037491\n",
      "LotArea__YearBuilt          0.028729\n",
      "LotArea__YearRemodAdd       0.026420\n",
      "TotalBsmtSF__BedroomAbvGr   0.024150\n",
      "LotArea__LowQualFinSF       0.020070\n",
      "LotArea__GarageYrBlt        0.013292\n",
      "LotFrontage__LowQualFinSF   0.011040\n",
      "OverallCond__2ndFlrSF       0.007294\n",
      "OverallCond__BedroomAbvGr   0.006689\n",
      "GarageArea__LowQualFinSF    0.005406\n",
      "SalePrice__LowQualFinSF    -0.001897\n",
      "OverallQual__LowQualFinSF  -0.008694\n",
      "YearBuilt__2ndFlrSF        -0.012444\n",
      "LotArea__OverallCond       -0.034330\n",
      "LotFrontage__OverallCond   -0.046745\n",
      "GarageYrBlt__LowQualFinSF  -0.046795\n",
      "TotalBsmtSF__LowQualFinSF  -0.048074\n",
      "YearRemodAdd__LowQualFinSF -0.053900\n",
      "BedroomAbvGr__GarageYrBlt  -0.055587\n",
      "YearBuilt__BedroomAbvGr    -0.065047\n",
      "YearRemodAdd__BedroomAbvGr -0.078837\n",
      "OverallCond__TotRmsAbvGrd  -0.095429\n",
      "OverallCond__GrLivArea     -0.112204\n",
      "OverallCond__SalePrice     -0.125475\n",
      "YearBuilt__LowQualFinSF    -0.164479\n",
      "OverallQual__OverallCond   -0.164751\n",
      "TotalBsmtSF__2ndFlrSF      -0.178859\n",
      "OverallCond__TotalBsmtSF   -0.194055\n",
      "OverallCond__GarageArea    -0.226959\n",
      "OverallCond__GarageYrBlt   -0.343965\n",
      "OverallCond__YearBuilt     -0.426921\n"
     ]
    }
   ],
   "source": [
    "train_houses_correlation_columns = train_houses[['LotFrontage', 'LotArea', 'OverallQual', 'OverallCond', 'GarageArea', 'TotRmsAbvGrd','TotalBsmtSF','YearRemodAdd','GrLivArea','YearBuilt','BedroomAbvGr','GarageYrBlt','2ndFlrSF','LowQualFinSF','SalePrice']]\n",
    "train_houses_not_null = train_houses_correlation_columns.dropna(axis = 0, how='any')\n",
    "correlations = {}\n",
    "columns = ['LotFrontage', 'LotArea', 'OverallQual', 'OverallCond', 'SalePrice', 'GarageArea', 'TotRmsAbvGrd', 'TotalBsmtSF','YearRemodAdd','GrLivArea','YearBuilt','BedroomAbvGr','GarageYrBlt','2ndFlrSF','LowQualFinSF']\n",
    "\n",
    "for col_a, col_b in itertools.combinations(columns, 2):\n",
    "    correlations[col_a + '__' + col_b] = pearsonr(train_houses_not_null.loc[:, col_a], train_houses_not_null.loc[:, col_b])\n",
    "\n",
    "correlation_result = DataFrame.from_dict(correlations, orient='index')\n",
    "correlation_result.columns = ['PCC', 'p-value']\n",
    "correlation_result = correlation_result[['PCC']]\n",
    "correlation_result = correlation_result.sort_values(by=['PCC'], ascending=False)\n",
    "with pd.option_context('display.max_rows', None, 'display.max_columns', None):  print(correlation_result)"
   ]
  },
  {
   "cell_type": "code",
   "execution_count": 540,
   "metadata": {},
   "outputs": [
    {
     "name": "stdout",
     "output_type": "stream",
     "text": [
      "Heatmap for the correlation co-efficients\n"
     ]
    },
    {
     "data": {
      "image/png": "[encoded data removed]",
      "text/plain": [
       "<Figure size 842.4x595.44 with 2 Axes>"
      ]
     },
     "metadata": {
      "needs_background": "light"
     },
     "output_type": "display_data"
    }
   ],
   "source": [
    "a4_dims = (11.7, 8.27)\n",
    "fig, ax = plt.subplots(figsize=a4_dims)\n",
    "sns.heatmap(train_houses_not_null.corr(),ax=ax)\n",
    "\n",
    "print(\"Heatmap for the correlation co-efficients\")"
   ]
  },
  {
   "cell_type": "markdown",
   "metadata": {},
   "source": [
    "Discuss most positive and negative correlations.\n",
    "\n",
    "Most Positive Correlations:\n",
    "\n",
    "\n",
    "1) YearBuilt__GarageYrBlt      0.824558\n",
    "\n",
    "This correlation tells us that the earlier the house was built, the earlier they built the garage. \n",
    "Most of the houses have the garage when the house was itself built. I subtracted the year the house was built from the year the garage was built. Most of the values were 0, which means that the garage was built when the house was built. \n",
    "\n",
    "One interesting thing I found out while taking the difference of the years was that some differences were negative. This means that the garage was built earlier than the house. It may possibly be a mistake or the garage was built first and then it was extended to a house!\n",
    "\n",
    "2) OverallQual__SalePrice      0.799069\n",
    "\n",
    "Even this should not come as a surprise as this is the expected behaviour. The better the quality of the house, the higher will be its sale price. The scatter plot for this can be seen below. One interesting thing to note here is that each overall quality has some range of Sale Price. And that range keeps on increasing as we increase the overall quality. For example, 'Overall Quality' --> 2 has a range of Sale Price somewhere between 10,000 - 90,000, 'Overall Quality' --> 3 has a range of Sale Price of 50,000 t o 1,30,000. The ranges for overall quality are overlapping, but the maximum value of 'Sale Price' for each 'Overall Quality' is increasing linearly."
   ]
  },
  {
   "cell_type": "code",
   "execution_count": 546,
   "metadata": {},
   "outputs": [
    {
     "data": {
      "image/png": "[encoded data removed]",
      "text/plain": [
       "<Figure size 432x288 with 1 Axes>"
      ]
     },
     "metadata": {
      "needs_background": "light"
     },
     "output_type": "display_data"
    },
    {
     "data": {
      "image/png": "[encoded data removed]",
      "text/plain": [
       "<Figure size 432x288 with 1 Axes>"
      ]
     },
     "metadata": {
      "needs_background": "light"
     },
     "output_type": "display_data"
    }
   ],
   "source": [
    "plt.scatter(train_houses_not_null['YearBuilt'], train_houses_not_null['GarageYrBlt'])\n",
    "plt.xlabel('Year Built')\n",
    "plt.ylabel('Garage Year Built')\n",
    "plt.show()\n",
    "\n",
    "\n",
    "plt.scatter(train_houses_not_null['OverallQual'], train_houses_not_null['SalePrice'])\n",
    "plt.xlabel('House Overall Quality')\n",
    "plt.ylabel('House Sale Price')\n",
    "plt.show()\n"
   ]
  },
  {
   "cell_type": "markdown",
   "metadata": {},
   "source": [
    "Most negative correlations:\n",
    "\n",
    "1) OverallCond__YearBuilt     -0.426921\n",
    "\n",
    "This correlation tells us that the earlier the house was built, the overall condition deteriorated Although, it's not a strong correlation. This can be explained by the fact the house was also remodelled.  This is proven by the fact that 'YearRemodAdd' and 'OverallQual' of the house is correlated nicely at 0.57. The year in which the house was remodeled is given by the column 'YearRemodAdd'.\n",
    "\n",
    "2) OverallCond__GarageYrBlt   -0.343965\n",
    "\n",
    "This correlation tells us about the relation between the overall condition of the house and the year the garage was built in. The older the garage, the bad the condition of the house.\n",
    "\n",
    "The scatter plots for both of these negative correlations can be seen below."
   ]
  },
  {
   "cell_type": "code",
   "execution_count": 80,
   "metadata": {},
   "outputs": [
    {
     "data": {
      "image/png": "[encoded data removed]",
      "text/plain": [
       "<Figure size 432x288 with 1 Axes>"
      ]
     },
     "metadata": {
      "needs_background": "light"
     },
     "output_type": "display_data"
    },
    {
     "data": {
      "image/png": "[encoded data removed]",
      "text/plain": [
       "<Figure size 432x288 with 1 Axes>"
      ]
     },
     "metadata": {
      "needs_background": "light"
     },
     "output_type": "display_data"
    }
   ],
   "source": [
    "plt.scatter(train_houses_not_null['OverallCond'], train_houses_not_null['YearBuilt'])\n",
    "plt.xlabel('Overall Condition of the house')\n",
    "plt.ylabel('Year Built')\n",
    "plt.show()\n",
    "\n",
    "plt.scatter(train_houses_not_null['OverallCond'], train_houses_not_null['GarageYrBlt'])\n",
    "plt.xlabel('Overall Condition of the house')\n",
    "plt.ylabel('Garage Year Built')\n",
    "plt.show()"
   ]
  },
  {
   "cell_type": "markdown",
   "metadata": {},
   "source": [
    "## Part 2 - Informative Plots"
   ]
  },
  {
   "cell_type": "code",
   "execution_count": 567,
   "metadata": {},
   "outputs": [
    {
     "data": {
      "image/png": "[encoded data removed]",
      "text/plain": [
       "<Figure size 432x288 with 1 Axes>"
      ]
     },
     "metadata": {
      "needs_background": "light"
     },
     "output_type": "display_data"
    }
   ],
   "source": [
    "# code to generate Plot 1\n",
    "\n",
    "# Scatter Plot of House Style v/s Year Built \n",
    "plt.scatter(train_houses['HouseStyle'], train_houses['YearBuilt'])\n",
    "plt.xlabel('House Style')\n",
    "plt.ylabel('Year Built')\n",
    "plt.show()"
   ]
  },
  {
   "cell_type": "markdown",
   "metadata": {},
   "source": [
    "What interesting properties does Plot 1 reveal?\n",
    "\n",
    "The most interesting properties that the Plot 1 reveal are the ranges of years for which a particular house style was in fashion in Ames, Iowa.\n",
    "\n",
    "The most popular version of the house people preferred in Ames was 2Story building.\n",
    "\n",
    "For example, the construction for 2Story house style began way back in 1800s and it was built evenly till late 2000s .\n",
    "\n",
    "There were a few instances of 1Story buildings in 1880's and then the construction of 1Story buildings stopped until 1910s\n",
    "and then again it was built regularly.\n",
    "\n",
    "The most rare house styles are 1.5Unf, 2.5Unf and 2.5Fin. They were present on on-off basis. \n",
    "\n",
    "It would be pretty interesting to know the reasons behind why such patterns are observed. Why the construction of a particular house style was relevant only for a particular period of time. It may reveal some very interesting back-stories.\n"
   ]
  },
  {
   "cell_type": "code",
   "execution_count": 582,
   "metadata": {},
   "outputs": [
    {
     "data": {
      "image/png": "[encoded data removed]",
      "text/plain": [
       "<Figure size 432x288 with 1 Axes>"
      ]
     },
     "metadata": {
      "needs_background": "light"
     },
     "output_type": "display_data"
    }
   ],
   "source": [
    "# code to generate Plot 2\n",
    "\n",
    "# Scatter plot of Garage Quality vs Sale Price\n",
    "garagequal_saleprice_notnull = train_houses[['GarageQual', 'SalePrice']].dropna(axis=0, how='any')\n",
    "plt.scatter(garagequal_saleprice_notnull['GarageQual'], garagequal_saleprice_notnull['SalePrice'], color='maroon')\n",
    "plt.xlabel('Garage Quality')\n",
    "plt.ylabel('Sale Price')\n",
    "plt.show()\n"
   ]
  },
  {
   "cell_type": "markdown",
   "metadata": {},
   "source": [
    "What interesting properties does Plot 2 reveal?\n",
    "\n",
    "TA - Typical\n",
    "Fa - Fair\n",
    "Gd - Good\n",
    "Ex - Excellent\n",
    "Po - Poor\n",
    "Plot 2 reveals that SalePrice is dependent on Garage Quality but not too much. We can conclude this by seeing that Poor garage quality houses have SalePrice mostly on the lower side of the spectrum. Fair, which is a grade higher than Poor, has slight higher values of SalePrice. Good garage quality has slightly higher range of values than Fair. \n",
    "\n",
    "But one interesting thing to note here is that Typical Garage quality is distributed nicely among all the SalePrices and most of the data points are in the typical garage quality bracket. This tells us that once the Garage Quality reaches a level of Typical, the customer does not focus much on it. He will look for other features. But, if the garage quality is below typical, like Poor or Fair, it may affect the price of the house severely and negatively. \n",
    "\n",
    "This tells us the subtlety or the nuance of the effect of Garage Quality on SalePrice."
   ]
  },
  {
   "cell_type": "code",
   "execution_count": 581,
   "metadata": {},
   "outputs": [
    {
     "data": {
      "image/png": "[encoded data removed]",
      "text/plain": [
       "<Figure size 432x288 with 1 Axes>"
      ]
     },
     "metadata": {
      "needs_background": "light"
     },
     "output_type": "display_data"
    }
   ],
   "source": [
    "# code to generate Plot 3\n",
    "\n",
    "# Scatter plot of Neighborhood v/s the year the houses were built there.\n",
    "plt.scatter(train_houses['YearBuilt'], train_houses['Neighborhood'],color='saddlebrown')\n",
    "plt.xlabel('Year Built')\n",
    "plt.ylabel('Neighborhood')\n",
    "plt.show()"
   ]
  },
  {
   "cell_type": "markdown",
   "metadata": {},
   "source": [
    "What interesting properties does Plot 3 reveal?\n",
    "\n",
    "Plot 3 reveals interesting things about the year the neighborhood was developed in the city of Ames. We can find out the recently developed neighborhoods and the neighborhoods which were developed quite early. \n",
    "\n",
    "For example, Old Town neighborhood has construction started quite early in 1800s. Blmngtn is a new neighborhood which started with first house being constructed in around 2000s.\n",
    "\n",
    "There are some areas in which the construction started and continued for a few years or decades and then stopped for decades and then restarted again.\n",
    "\n",
    "It would be interesting to know the reasons behind these gaps. And the reasons behind those gaps could lead to some interesting analysis."
   ]
  },
  {
   "cell_type": "code",
   "execution_count": 580,
   "metadata": {},
   "outputs": [
    {
     "name": "stdout",
     "output_type": "stream",
     "text": [
      "                  SalePrice\n",
      "Neighborhood               \n",
      "MeadowV        98576.470588\n",
      "IDOTRR        100123.783784\n",
      "BrDale        104493.750000\n",
      "BrkSide       124834.051724\n",
      "Edwards       128219.700000\n"
     ]
    },
    {
     "data": {
      "image/png": "[encoded data removed]",
      "text/plain": [
       "<Figure size 432x288 with 1 Axes>"
      ]
     },
     "metadata": {
      "needs_background": "light"
     },
     "output_type": "display_data"
    }
   ],
   "source": [
    "# code to generate Plot 4\n",
    "\n",
    "# Bar graph of neighborhood v/s mean SalePrice\n",
    "new_data = pd.read_csv('C:/Fall2019/DSF/Assignment2/Data/train.csv')\n",
    "new_data.Neighborhood.head()\n",
    "groupby_neighborhood = new_data[['Neighborhood', 'SalePrice']]\n",
    "\n",
    "neighborhoods = new_data.Neighborhood.unique().tolist()\n",
    "#neighborhoods_list = neighborhoods.values().tolist()\n",
    "groupby_neighborhood.shape\n",
    "ng = groupby_neighborhood.groupby('Neighborhood').mean()\n",
    "ng = ng.sort_values(by='SalePrice')\n",
    "print(ng.head())\n",
    "plot1 = (ng).plot(kind='bar', color='darkorange')\n",
    "fig= plt.figure(figsize=(6,3))"
   ]
  },
  {
   "cell_type": "markdown",
   "metadata": {},
   "source": [
    "What interesting properties does Plot 4 reveal?\n",
    "\n",
    "This line chart reveals the relation between the Neighborhood and the Sale Price. "
   ]
  },
  {
   "cell_type": "code",
   "execution_count": 609,
   "metadata": {},
   "outputs": [
    {
     "name": "stdout",
     "output_type": "stream",
     "text": [
      "                SalePrice\n",
      "MSSubClass               \n",
      "30           95829.724638\n",
      "180         102300.000000\n",
      "45          108591.666667\n",
      "190         129613.333333\n",
      "90          133541.076923\n"
     ]
    },
    {
     "data": {
      "image/png": "[encoded data removed]",
      "text/plain": [
       "<Figure size 432x288 with 1 Axes>"
      ]
     },
     "metadata": {
      "needs_background": "light"
     },
     "output_type": "display_data"
    }
   ],
   "source": [
    "# code to generate Plot 5\n",
    "\n",
    "# Line Graph of MSSubClass v/s SalePrice\n",
    "\n",
    "MSSubClasses = train_houses.MSSubClass.unique().tolist()\n",
    "MSSub = train_houses[['MSSubClass', 'SalePrice']]\n",
    "mg = MSSub.groupby('MSSubClass').mean()\n",
    "mg = mg.sort_values(by='SalePrice')\n",
    "print(mg.head())\n",
    "plot1 = (mg).plot(color='darkorange')\n",
    "plt.xlabel('MSSubClass')\n",
    "plt.ylabel('SalePrice')\n",
    "plt.show()"
   ]
  },
  {
   "cell_type": "markdown",
   "metadata": {},
   "source": [
    "What interesting properties does Plot 5 reveal?\n",
    "\n",
    "This plot shows the average SalePrice for a group of MSSubClass."
   ]
  },
  {
   "cell_type": "markdown",
   "metadata": {},
   "source": [
    "## Part 3 - Handcrafted Scoring Function"
   ]
  },
  {
   "cell_type": "code",
   "execution_count": 274,
   "metadata": {},
   "outputs": [
    {
     "data": {
      "text/html": [
       "<div>\n",
       "<style scoped>\n",
       "    .dataframe tbody tr th:only-of-type {\n",
       "        vertical-align: middle;\n",
       "    }\n",
       "\n",
       "    .dataframe tbody tr th {\n",
       "        vertical-align: top;\n",
       "    }\n",
       "\n",
       "    .dataframe thead th {\n",
       "        text-align: right;\n",
       "    }\n",
       "</style>\n",
       "<table border=\"1\" class=\"dataframe\">\n",
       "  <thead>\n",
       "    <tr style=\"text-align: right;\">\n",
       "      <th></th>\n",
       "      <th>Id</th>\n",
       "      <th>OverallQual</th>\n",
       "      <th>YearBuilt</th>\n",
       "      <th>TotalBsmtSF</th>\n",
       "      <th>GrLivArea</th>\n",
       "      <th>GarageArea</th>\n",
       "      <th>TotRmsAbvGrd</th>\n",
       "      <th>ExterQual</th>\n",
       "      <th>KitchenQual</th>\n",
       "      <th>SalePrice</th>\n",
       "      <th>score</th>\n",
       "    </tr>\n",
       "  </thead>\n",
       "  <tbody>\n",
       "    <tr>\n",
       "      <th>1298</th>\n",
       "      <td>1299</td>\n",
       "      <td>10</td>\n",
       "      <td>2008</td>\n",
       "      <td>6110</td>\n",
       "      <td>5642</td>\n",
       "      <td>1418</td>\n",
       "      <td>12</td>\n",
       "      <td>5</td>\n",
       "      <td>5</td>\n",
       "      <td>160000</td>\n",
       "      <td>99.978223</td>\n",
       "    </tr>\n",
       "    <tr>\n",
       "      <th>523</th>\n",
       "      <td>524</td>\n",
       "      <td>10</td>\n",
       "      <td>2007</td>\n",
       "      <td>3138</td>\n",
       "      <td>4676</td>\n",
       "      <td>884</td>\n",
       "      <td>11</td>\n",
       "      <td>5</td>\n",
       "      <td>5</td>\n",
       "      <td>184750</td>\n",
       "      <td>70.691236</td>\n",
       "    </tr>\n",
       "    <tr>\n",
       "      <th>1182</th>\n",
       "      <td>1183</td>\n",
       "      <td>10</td>\n",
       "      <td>1996</td>\n",
       "      <td>2396</td>\n",
       "      <td>4476</td>\n",
       "      <td>813</td>\n",
       "      <td>10</td>\n",
       "      <td>4</td>\n",
       "      <td>5</td>\n",
       "      <td>745000</td>\n",
       "      <td>64.011294</td>\n",
       "    </tr>\n",
       "    <tr>\n",
       "      <th>691</th>\n",
       "      <td>692</td>\n",
       "      <td>10</td>\n",
       "      <td>1994</td>\n",
       "      <td>2444</td>\n",
       "      <td>4316</td>\n",
       "      <td>832</td>\n",
       "      <td>10</td>\n",
       "      <td>5</td>\n",
       "      <td>5</td>\n",
       "      <td>755000</td>\n",
       "      <td>63.264750</td>\n",
       "    </tr>\n",
       "    <tr>\n",
       "      <th>496</th>\n",
       "      <td>497</td>\n",
       "      <td>8</td>\n",
       "      <td>1992</td>\n",
       "      <td>3200</td>\n",
       "      <td>3228</td>\n",
       "      <td>546</td>\n",
       "      <td>10</td>\n",
       "      <td>4</td>\n",
       "      <td>4</td>\n",
       "      <td>430000</td>\n",
       "      <td>58.221686</td>\n",
       "    </tr>\n",
       "    <tr>\n",
       "      <th>1169</th>\n",
       "      <td>1170</td>\n",
       "      <td>10</td>\n",
       "      <td>1995</td>\n",
       "      <td>1930</td>\n",
       "      <td>3627</td>\n",
       "      <td>807</td>\n",
       "      <td>10</td>\n",
       "      <td>4</td>\n",
       "      <td>4</td>\n",
       "      <td>625000</td>\n",
       "      <td>54.814496</td>\n",
       "    </tr>\n",
       "    <tr>\n",
       "      <th>440</th>\n",
       "      <td>441</td>\n",
       "      <td>10</td>\n",
       "      <td>2008</td>\n",
       "      <td>3094</td>\n",
       "      <td>2402</td>\n",
       "      <td>672</td>\n",
       "      <td>10</td>\n",
       "      <td>5</td>\n",
       "      <td>5</td>\n",
       "      <td>555000</td>\n",
       "      <td>52.445614</td>\n",
       "    </tr>\n",
       "    <tr>\n",
       "      <th>1373</th>\n",
       "      <td>1374</td>\n",
       "      <td>10</td>\n",
       "      <td>2001</td>\n",
       "      <td>2633</td>\n",
       "      <td>2633</td>\n",
       "      <td>804</td>\n",
       "      <td>8</td>\n",
       "      <td>5</td>\n",
       "      <td>5</td>\n",
       "      <td>466500</td>\n",
       "      <td>52.016900</td>\n",
       "    </tr>\n",
       "    <tr>\n",
       "      <th>1353</th>\n",
       "      <td>1354</td>\n",
       "      <td>8</td>\n",
       "      <td>1995</td>\n",
       "      <td>2033</td>\n",
       "      <td>3238</td>\n",
       "      <td>666</td>\n",
       "      <td>9</td>\n",
       "      <td>4</td>\n",
       "      <td>4</td>\n",
       "      <td>410000</td>\n",
       "      <td>51.697533</td>\n",
       "    </tr>\n",
       "    <tr>\n",
       "      <th>798</th>\n",
       "      <td>799</td>\n",
       "      <td>9</td>\n",
       "      <td>2008</td>\n",
       "      <td>1926</td>\n",
       "      <td>3140</td>\n",
       "      <td>820</td>\n",
       "      <td>11</td>\n",
       "      <td>5</td>\n",
       "      <td>5</td>\n",
       "      <td>485000</td>\n",
       "      <td>51.397749</td>\n",
       "    </tr>\n",
       "  </tbody>\n",
       "</table>\n",
       "</div>"
      ],
      "text/plain": [
       "        Id  OverallQual  YearBuilt  TotalBsmtSF  GrLivArea  GarageArea  \\\n",
       "1298  1299           10       2008         6110       5642        1418   \n",
       "523    524           10       2007         3138       4676         884   \n",
       "1182  1183           10       1996         2396       4476         813   \n",
       "691    692           10       1994         2444       4316         832   \n",
       "496    497            8       1992         3200       3228         546   \n",
       "1169  1170           10       1995         1930       3627         807   \n",
       "440    441           10       2008         3094       2402         672   \n",
       "1373  1374           10       2001         2633       2633         804   \n",
       "1353  1354            8       1995         2033       3238         666   \n",
       "798    799            9       2008         1926       3140         820   \n",
       "\n",
       "      TotRmsAbvGrd  ExterQual  KitchenQual  SalePrice      score  \n",
       "1298            12          5            5     160000  99.978223  \n",
       "523             11          5            5     184750  70.691236  \n",
       "1182            10          4            5     745000  64.011294  \n",
       "691             10          5            5     755000  63.264750  \n",
       "496             10          4            4     430000  58.221686  \n",
       "1169            10          4            4     625000  54.814496  \n",
       "440             10          5            5     555000  52.445614  \n",
       "1373             8          5            5     466500  52.016900  \n",
       "1353             9          4            4     410000  51.697533  \n",
       "798             11          5            5     485000  51.397749  "
      ]
     },
     "metadata": {},
     "output_type": "display_data"
    },
    {
     "name": "stdout",
     "output_type": "stream",
     "text": [
      "Ten most desirable houses\n"
     ]
    },
    {
     "data": {
      "text/html": [
       "<div>\n",
       "<style scoped>\n",
       "    .dataframe tbody tr th:only-of-type {\n",
       "        vertical-align: middle;\n",
       "    }\n",
       "\n",
       "    .dataframe tbody tr th {\n",
       "        vertical-align: top;\n",
       "    }\n",
       "\n",
       "    .dataframe thead th {\n",
       "        text-align: right;\n",
       "    }\n",
       "</style>\n",
       "<table border=\"1\" class=\"dataframe\">\n",
       "  <thead>\n",
       "    <tr style=\"text-align: right;\">\n",
       "      <th></th>\n",
       "      <th>Id</th>\n",
       "      <th>SalePrice</th>\n",
       "      <th>score</th>\n",
       "    </tr>\n",
       "  </thead>\n",
       "  <tbody>\n",
       "    <tr>\n",
       "      <th>1298</th>\n",
       "      <td>1299</td>\n",
       "      <td>160000</td>\n",
       "      <td>99.978223</td>\n",
       "    </tr>\n",
       "    <tr>\n",
       "      <th>523</th>\n",
       "      <td>524</td>\n",
       "      <td>184750</td>\n",
       "      <td>70.691236</td>\n",
       "    </tr>\n",
       "    <tr>\n",
       "      <th>1182</th>\n",
       "      <td>1183</td>\n",
       "      <td>745000</td>\n",
       "      <td>64.011294</td>\n",
       "    </tr>\n",
       "    <tr>\n",
       "      <th>691</th>\n",
       "      <td>692</td>\n",
       "      <td>755000</td>\n",
       "      <td>63.264750</td>\n",
       "    </tr>\n",
       "    <tr>\n",
       "      <th>496</th>\n",
       "      <td>497</td>\n",
       "      <td>430000</td>\n",
       "      <td>58.221686</td>\n",
       "    </tr>\n",
       "    <tr>\n",
       "      <th>1169</th>\n",
       "      <td>1170</td>\n",
       "      <td>625000</td>\n",
       "      <td>54.814496</td>\n",
       "    </tr>\n",
       "    <tr>\n",
       "      <th>440</th>\n",
       "      <td>441</td>\n",
       "      <td>555000</td>\n",
       "      <td>52.445614</td>\n",
       "    </tr>\n",
       "    <tr>\n",
       "      <th>1373</th>\n",
       "      <td>1374</td>\n",
       "      <td>466500</td>\n",
       "      <td>52.016900</td>\n",
       "    </tr>\n",
       "    <tr>\n",
       "      <th>1353</th>\n",
       "      <td>1354</td>\n",
       "      <td>410000</td>\n",
       "      <td>51.697533</td>\n",
       "    </tr>\n",
       "    <tr>\n",
       "      <th>798</th>\n",
       "      <td>799</td>\n",
       "      <td>485000</td>\n",
       "      <td>51.397749</td>\n",
       "    </tr>\n",
       "  </tbody>\n",
       "</table>\n",
       "</div>"
      ],
      "text/plain": [
       "        Id  SalePrice      score\n",
       "1298  1299     160000  99.978223\n",
       "523    524     184750  70.691236\n",
       "1182  1183     745000  64.011294\n",
       "691    692     755000  63.264750\n",
       "496    497     430000  58.221686\n",
       "1169  1170     625000  54.814496\n",
       "440    441     555000  52.445614\n",
       "1373  1374     466500  52.016900\n",
       "1353  1354     410000  51.697533\n",
       "798    799     485000  51.397749"
      ]
     },
     "metadata": {},
     "output_type": "display_data"
    }
   ],
   "source": [
    "# TODO: code for scoring function\n",
    "\n",
    "# Finding correlation between ordinal variables and sale price\n",
    "ordinal_saleprice = train_houses[['ExterQual', 'ExterCond','BsmtQual', 'BsmtCond', 'HeatingQC', 'KitchenQual', 'FireplaceQu' , 'GarageQual',\n",
    " 'GarageCond', 'SalePrice']]\n",
    "mapper = {'Ex':5, 'Gd':4, 'TA':3, 'Fa':2, 'Po':1}\n",
    "new_ordinal_saleprice = ordinal_saleprice.replace(mapper)\n",
    "new_ordinal_saleprice.fillna(0, inplace=True)\n",
    "\n",
    "corr1 = new_ordinal_saleprice.corr()\n",
    "# print(corr1)\n",
    "house_score_columns = ['OverallQual', 'YearBuilt', 'TotalBsmtSF', 'GrLivArea', 'GarageArea','TotRmsAbvGrd','ExterQual','KitchenQual','SalePrice']\n",
    "house_score_exterqual_ordinal = train_houses[house_score_columns].replace(mapper)\n",
    "house_score_exterqual_ordinal.fillna(0, inplace=True)\n",
    "house_score_exterqual_ordinal.head()\n",
    "corr = house_score_exterqual_ordinal.corr()\n",
    "\n",
    "corr_saleprice_values = corr['SalePrice'].tolist()\n",
    "corr_saleprice_values.pop()\n",
    "\n",
    "# print(corr_saleprice_values)\n",
    "\n",
    "weights = []\n",
    "sum = 0\n",
    "for idx in range(len(corr_saleprice_values)):\n",
    "    sum+=corr_saleprice_values[idx]\n",
    "\n",
    "for idx in range(len(corr_saleprice_values)):\n",
    "    weights.append(corr_saleprice_values[idx]/sum)\n",
    "    \n",
    "house_score_saleprice_dropped = house_score_exterqual_ordinal.drop(columns=['SalePrice'])\n",
    "\n",
    "# Calculate the maximum possible score\n",
    "max_score = 0\n",
    "max_columns = house_score_exterqual_ordinal.max()\n",
    "\n",
    "max_columns_list = max_columns.tolist()\n",
    "\n",
    "# Removing the SalePrice column\n",
    "max_columns_list.pop()\n",
    "\n",
    "# Find the maximum score possible by multiplying the maximum value in each column with its weight\n",
    "for index in range(len(max_columns_list)):\n",
    "    max_score+=max_columns_list[index]*weights[index]\n",
    "    \n",
    "column_index = 0;\n",
    "scores = []\n",
    "for row in house_score_saleprice_dropped.iterrows():\n",
    "    score = 0\n",
    "    for column_index in range(len(weights)):\n",
    "        score+=row[1][column_index]*weights[column_index]\n",
    "    score = (score*100)/max_score\n",
    "    scores.append(score)\n",
    "\n",
    "house_score_exterqual_ordinal['score'] = scores\n",
    "house_score_sorted = house_score_exterqual_ordinal.sort_values(by=['score'],ascending=False)\n",
    "house_score_sorted.insert(0, 'Id', train_houses[['Id']])\n",
    "display(house_score_sorted.head(10))\n",
    "print(\"Ten most desirable houses\")\n",
    "\n",
    "\n",
    "Id_SalePrice_Score = house_score_sorted[['Id', 'SalePrice', 'score']]\n",
    "display(Id_SalePrice_Score. head(10))\n",
    "# train_houses['score'] = scores\n",
    "# train_houses_sorted = train_houses.sort_values(by=['score'], ascending=False)\n",
    "\n",
    "# Fetching the 10 most desirable houses\n",
    "# train_houses_sorted.head(10)"
   ]
  },
  {
   "cell_type": "markdown",
   "metadata": {},
   "source": [
    "What is the ten most desirable houses?\n",
    "\n",
    "The IDs of the ten most desirable houses ( as can be seen in the table above with all column values ) are:\n",
    "\n",
    "Id\t   SalePrice\tscore\n",
    "1299\t160000\t  99.978223\n",
    " 524\t184750\t  70.691236\n",
    "1183\t745000\t  64.011294\n",
    " 692\t755000\t  63.264750\n",
    " 497\t430000\t  58.221686\n",
    "1170\t625000\t  54.814496\n",
    " 441\t555000\t  52.445614\n",
    "1374\t466500\t  52.016900\n",
    "1354\t410000\t  51.697533\n",
    " 799\t485000\t  51.397749"
   ]
  },
  {
   "cell_type": "code",
   "execution_count": 272,
   "metadata": {
    "scrolled": true
   },
   "outputs": [
    {
     "data": {
      "text/html": [
       "<div>\n",
       "<style scoped>\n",
       "    .dataframe tbody tr th:only-of-type {\n",
       "        vertical-align: middle;\n",
       "    }\n",
       "\n",
       "    .dataframe tbody tr th {\n",
       "        vertical-align: top;\n",
       "    }\n",
       "\n",
       "    .dataframe thead th {\n",
       "        text-align: right;\n",
       "    }\n",
       "</style>\n",
       "<table border=\"1\" class=\"dataframe\">\n",
       "  <thead>\n",
       "    <tr style=\"text-align: right;\">\n",
       "      <th></th>\n",
       "      <th>Id</th>\n",
       "      <th>OverallQual</th>\n",
       "      <th>YearBuilt</th>\n",
       "      <th>TotalBsmtSF</th>\n",
       "      <th>GrLivArea</th>\n",
       "      <th>GarageArea</th>\n",
       "      <th>TotRmsAbvGrd</th>\n",
       "      <th>ExterQual</th>\n",
       "      <th>KitchenQual</th>\n",
       "      <th>SalePrice</th>\n",
       "      <th>score</th>\n",
       "    </tr>\n",
       "  </thead>\n",
       "  <tbody>\n",
       "    <tr>\n",
       "      <th>533</th>\n",
       "      <td>534</td>\n",
       "      <td>1</td>\n",
       "      <td>1946</td>\n",
       "      <td>0</td>\n",
       "      <td>334</td>\n",
       "      <td>0</td>\n",
       "      <td>2</td>\n",
       "      <td>2</td>\n",
       "      <td>2</td>\n",
       "      <td>39300</td>\n",
       "      <td>12.971542</td>\n",
       "    </tr>\n",
       "    <tr>\n",
       "      <th>1100</th>\n",
       "      <td>1101</td>\n",
       "      <td>2</td>\n",
       "      <td>1920</td>\n",
       "      <td>290</td>\n",
       "      <td>438</td>\n",
       "      <td>246</td>\n",
       "      <td>3</td>\n",
       "      <td>3</td>\n",
       "      <td>2</td>\n",
       "      <td>60000</td>\n",
       "      <td>17.025584</td>\n",
       "    </tr>\n",
       "    <tr>\n",
       "      <th>1218</th>\n",
       "      <td>1219</td>\n",
       "      <td>4</td>\n",
       "      <td>1947</td>\n",
       "      <td>0</td>\n",
       "      <td>912</td>\n",
       "      <td>0</td>\n",
       "      <td>3</td>\n",
       "      <td>3</td>\n",
       "      <td>3</td>\n",
       "      <td>80500</td>\n",
       "      <td>17.241422</td>\n",
       "    </tr>\n",
       "    <tr>\n",
       "      <th>710</th>\n",
       "      <td>711</td>\n",
       "      <td>3</td>\n",
       "      <td>1935</td>\n",
       "      <td>270</td>\n",
       "      <td>729</td>\n",
       "      <td>0</td>\n",
       "      <td>5</td>\n",
       "      <td>4</td>\n",
       "      <td>3</td>\n",
       "      <td>52000</td>\n",
       "      <td>17.557500</td>\n",
       "    </tr>\n",
       "    <tr>\n",
       "      <th>1321</th>\n",
       "      <td>1322</td>\n",
       "      <td>3</td>\n",
       "      <td>1949</td>\n",
       "      <td>0</td>\n",
       "      <td>720</td>\n",
       "      <td>287</td>\n",
       "      <td>4</td>\n",
       "      <td>3</td>\n",
       "      <td>3</td>\n",
       "      <td>72500</td>\n",
       "      <td>17.691305</td>\n",
       "    </tr>\n",
       "    <tr>\n",
       "      <th>636</th>\n",
       "      <td>637</td>\n",
       "      <td>2</td>\n",
       "      <td>1936</td>\n",
       "      <td>264</td>\n",
       "      <td>800</td>\n",
       "      <td>0</td>\n",
       "      <td>4</td>\n",
       "      <td>2</td>\n",
       "      <td>2</td>\n",
       "      <td>60000</td>\n",
       "      <td>18.008895</td>\n",
       "    </tr>\n",
       "    <tr>\n",
       "      <th>528</th>\n",
       "      <td>529</td>\n",
       "      <td>4</td>\n",
       "      <td>1920</td>\n",
       "      <td>528</td>\n",
       "      <td>605</td>\n",
       "      <td>0</td>\n",
       "      <td>5</td>\n",
       "      <td>3</td>\n",
       "      <td>3</td>\n",
       "      <td>86000</td>\n",
       "      <td>18.203606</td>\n",
       "    </tr>\n",
       "    <tr>\n",
       "      <th>1323</th>\n",
       "      <td>1324</td>\n",
       "      <td>4</td>\n",
       "      <td>1940</td>\n",
       "      <td>420</td>\n",
       "      <td>708</td>\n",
       "      <td>0</td>\n",
       "      <td>5</td>\n",
       "      <td>2</td>\n",
       "      <td>2</td>\n",
       "      <td>82500</td>\n",
       "      <td>18.366807</td>\n",
       "    </tr>\n",
       "    <tr>\n",
       "      <th>705</th>\n",
       "      <td>706</td>\n",
       "      <td>4</td>\n",
       "      <td>1930</td>\n",
       "      <td>0</td>\n",
       "      <td>1092</td>\n",
       "      <td>0</td>\n",
       "      <td>7</td>\n",
       "      <td>2</td>\n",
       "      <td>2</td>\n",
       "      <td>55000</td>\n",
       "      <td>18.472395</td>\n",
       "    </tr>\n",
       "    <tr>\n",
       "      <th>1035</th>\n",
       "      <td>1036</td>\n",
       "      <td>4</td>\n",
       "      <td>1957</td>\n",
       "      <td>0</td>\n",
       "      <td>845</td>\n",
       "      <td>290</td>\n",
       "      <td>5</td>\n",
       "      <td>3</td>\n",
       "      <td>3</td>\n",
       "      <td>84000</td>\n",
       "      <td>18.680118</td>\n",
       "    </tr>\n",
       "  </tbody>\n",
       "</table>\n",
       "</div>"
      ],
      "text/plain": [
       "        Id  OverallQual  YearBuilt  TotalBsmtSF  GrLivArea  GarageArea  \\\n",
       "533    534            1       1946            0        334           0   \n",
       "1100  1101            2       1920          290        438         246   \n",
       "1218  1219            4       1947            0        912           0   \n",
       "710    711            3       1935          270        729           0   \n",
       "1321  1322            3       1949            0        720         287   \n",
       "636    637            2       1936          264        800           0   \n",
       "528    529            4       1920          528        605           0   \n",
       "1323  1324            4       1940          420        708           0   \n",
       "705    706            4       1930            0       1092           0   \n",
       "1035  1036            4       1957            0        845         290   \n",
       "\n",
       "      TotRmsAbvGrd  ExterQual  KitchenQual  SalePrice      score  \n",
       "533              2          2            2      39300  12.971542  \n",
       "1100             3          3            2      60000  17.025584  \n",
       "1218             3          3            3      80500  17.241422  \n",
       "710              5          4            3      52000  17.557500  \n",
       "1321             4          3            3      72500  17.691305  \n",
       "636              4          2            2      60000  18.008895  \n",
       "528              5          3            3      86000  18.203606  \n",
       "1323             5          2            2      82500  18.366807  \n",
       "705              7          2            2      55000  18.472395  \n",
       "1035             5          3            3      84000  18.680118  "
      ]
     },
     "metadata": {},
     "output_type": "display_data"
    },
    {
     "name": "stdout",
     "output_type": "stream",
     "text": [
      "Ten least desirable houses\n"
     ]
    }
   ],
   "source": [
    "# Fetching the 10 least desirable houses\n",
    "house_score_sorted_ascending = house_score_exterqual_ordinal.sort_values(by=['score'])\n",
    "house_score_sorted_ascending.insert(0, 'Id', train_houses[['Id']])\n",
    "display(house_score_sorted_ascending.head(10))\n",
    "print(\"Ten least desirable houses\")"
   ]
  },
  {
   "cell_type": "markdown",
   "metadata": {},
   "source": [
    "What is the ten least desirable houses?\n",
    "\n",
    "The IDs of the ten least desirable houses ( as can be seen in the table above with all column values ) are:\n",
    "\n",
    "Id\t   SalePrice\tscore\n",
    "\n",
    " 534\t39300\t12.971542\n",
    "1101\t60000\t17.025584\n",
    "1219\t80500\t17.241422\n",
    " 711\t52000\t17.557500\n",
    "1322\t72500\t17.691305\n",
    " 637\t60000\t18.008895\n",
    " 529\t86000\t18.203606\n",
    "1324\t82500\t18.366807\n",
    " 706\t55000\t18.472395\n",
    "1036\t84000\t18.680118"
   ]
  },
  {
   "cell_type": "markdown",
   "metadata": {},
   "source": [
    "Describe your scoring function and how well you think it worked.\n",
    "\n",
    "The notion of desirability was attached to the sense of cost. \n",
    "So, for the scoring function, I used the correlation matrix that I prepared in question 1 and saw which correlations with 'Sale Price' were the most significant among all the variables. I selected those variables to be used in the scoring function. For negative correlations, I was not getting significant enough correlation with 'Sale Price'. The highest negative correlation was around -0.42. Hence, I decided not to use the negative correlations. \n",
    "\n",
    "The variables which were selected based on the correlation with 'Sale Price' are:\n",
    "\n",
    "    Variable            Correlation with SalePrice\n",
    "    \n",
    "1) OverallQual                   0.790982 \n",
    "2) YearBuilt                     0.522897\n",
    "3) TotalBsmtSF                   0.613581\n",
    "4) GrLivArea                     0.708624\n",
    "5) GarageArea                    0.623431\n",
    "6) TotRmsAbvGrd                  0.533723\n",
    "7) ExterQual                     0.682639\n",
    "8) KitchenQual                   0.659600  \n",
    "\n",
    "The last two variables 'ExterQual' and 'KitchenQual' were ordinal variables and converted to numerical values by mapping the following:\n",
    "{'Excellent': 5, 'Good' : 4,'Typical' : 3, 'Fair':2, 'Poor':1, 'NA':0} \n",
    "\n",
    "The scoring functions calculates a weight to be given to each variable depending upon the extent of its correlation with the SalePrice. It then calculates the total score for a particular row by multiplying the weights of the column with the column value. \n",
    "\n",
    "The maximum possible score is calculated and then each score is divided by the maximum possible score and multiplied by a 100 to obtain a normalized score out of 100. \n",
    "\n",
    "If you have a look at the table for the most desirable houses, the top desirable house (ie ID: 1299 sits comfortably at the top with a normalized score of 99.97 and the second position is at 70.69\n",
    "This is because of the excellent values of the variables of that particular house. The rest of the 9 houses are the ones who have the highest SalePrice among the whole data. So, I would say that the scoring function works pretty well.\n",
    "\n",
    "If you have a look at the 10 least desirable houses, they have terrible values of the variables and these things are eventually reflected in their ultimate price. The Sale Price of the house are among the lowest in the whole dataset."
   ]
  },
  {
   "cell_type": "code",
   "execution_count": 278,
   "metadata": {},
   "outputs": [
    {
     "data": {
      "text/plain": [
       "<matplotlib.axes._subplots.AxesSubplot at 0x195509ae9b0>"
      ]
     },
     "execution_count": 278,
     "metadata": {},
     "output_type": "execute_result"
    },
    {
     "data": {
      "image/png": "[encoded data removed]",
      "text/plain": [
       "<Figure size 432x288 with 1 Axes>"
      ]
     },
     "metadata": {
      "needs_background": "light"
     },
     "output_type": "display_data"
    }
   ],
   "source": [
    "# The distribution of the scoring function can be plotted as below\n",
    "# Most of our houses have a score of 20-60 and there are very few houses which are above 60.\n",
    "sns.distplot(house_score_sorted_ascending['score'])"
   ]
  },
  {
   "cell_type": "markdown",
   "metadata": {},
   "source": [
    "## Part 4 - Pairwise Distance Function"
   ]
  },
  {
   "cell_type": "markdown",
   "metadata": {},
   "source": [
    "Here, we need to find homes that are similar to each other. This means that homes that are of similar make, similar exterior material, similar lot shape, building type, house style and many more properties of the house. We will ignore the attributes of the house such as quality of garage, overall quality, fireplace quality as such variables are not dependent on the neighborhood. Same quality of the houses can be found in different neighborhoods. We will only consider the variables that are related to physical properties of the house.  \n",
    "\n",
    "\n",
    "For assigning distances between a pair of categorical variable values, we will first label encode the categorical variables and then one hot encode it."
   ]
  },
  {
   "cell_type": "code",
   "execution_count": 642,
   "metadata": {},
   "outputs": [
    {
     "data": {
      "text/plain": [
       "(1378, 17)"
      ]
     },
     "metadata": {},
     "output_type": "display_data"
    },
    {
     "name": "stderr",
     "output_type": "stream",
     "text": [
      "C:\\Users\\rutvi\\AppData\\Local\\Continuum\\anaconda3\\lib\\site-packages\\pandas\\core\\frame.py:4034: SettingWithCopyWarning: \n",
      "A value is trying to be set on a copy of a slice from a DataFrame\n",
      "\n",
      "See the caveats in the documentation: http://pandas.pydata.org/pandas-docs/stable/indexing.html#indexing-view-versus-copy\n",
      "  downcast=downcast, **kwargs)\n"
     ]
    },
    {
     "name": "stdout",
     "output_type": "stream",
     "text": [
      "[[390036.26774442 390036.26774442 390036.26774442 ... 390036.26774442\n",
      "  390036.26774442 390036.26774442]\n",
      " [383599.423876   383599.423876   383599.423876   ... 383599.423876\n",
      "  383599.423876   383599.423876  ]\n",
      " [383074.67415114 383074.67415114 383074.67415114 ... 383074.67415114\n",
      "  383074.67415114 383074.67415114]\n",
      " ...\n",
      " [387385.43792456 387385.43792456 387385.43792456 ... 387385.43792456\n",
      "  387385.43792456 387385.43792456]\n",
      " [383562.17986136 383562.17986136 383562.17986136 ... 383562.17986136\n",
      "  383562.17986136 383562.17986136]\n",
      " [382717.60433249 382717.60433249 382717.60433249 ... 382717.60433249\n",
      "  382717.60433249 382717.60433249]]\n"
     ]
    }
   ],
   "source": [
    "#  code for distance function\n",
    "# For each categorical column\n",
    "# We fit a label encoder, transform our column and \n",
    "# add it to our new dataframe\n",
    "cat_columns = {'MSSubClass', 'MSZoning', 'Street', 'Condition1', 'Condition2', 'BldgType','HouseStyle','RoofStyle','RoofMatl','Exterior1st','Exterior2nd','Foundation','Heating','Electrical','GarageType'}\n",
    "dist_houses = train_houses[['Id', 'Neighborhood']]\n",
    "train_houses_dist = train_houses[['Id', 'Neighborhood', 'MSSubClass', 'MSZoning', 'Street', 'Condition1', 'Condition2', 'BldgType','HouseStyle','RoofStyle','RoofMatl','Exterior1st','Exterior2nd','Foundation','Heating','Electrical','GarageType']]\n",
    "\n",
    "train_houses_dist = train_houses_dist.dropna(how='any')\n",
    "display(train_houses_dist.shape)\n",
    "\n",
    "    \n",
    "train_houses_dist.head()\n",
    "train_houses_dist_ohe = train_houses_dist[['MSSubClass', 'MSZoning', 'Street', 'Condition1', 'Condition2', 'BldgType','HouseStyle','RoofStyle','RoofMatl','Exterior1st','Exterior2nd','Foundation','Heating','Electrical','GarageType']]\n",
    "\n",
    "distance_cols = ['LotFrontage', 'LotArea', 'YearBuilt', 'GrLivArea','GarageArea']\n",
    "distance_data = train_houses[distance_cols]\n",
    "distance_data.fillna(0, inplace=True)\n",
    "from sklearn.metrics.pairwise import euclidean_distances\n",
    "\n",
    "\n",
    "# Calculating the Euclidian distances between two rows in the data\n",
    "eu_dist = euclidean_distances(distance_data, distance_data)\n",
    "\n",
    "# getting the normalized euclidian distances\n",
    "\n",
    "origin = [[0 for i in range(len(eu_dist[0]))] for j in range(len(eu_dist))]\n",
    "eu_dist_norm = euclidean_distances(eu_dist,origin)\n",
    "\n",
    "print(eu_dist_norm)"
   ]
  },
  {
   "cell_type": "code",
   "execution_count": 626,
   "metadata": {},
   "outputs": [
    {
     "name": "stdout",
     "output_type": "stream",
     "text": [
      "[[   0.         1237.70028682 2801.67610548 ...  915.87389962\n",
      "  1449.96379265 1578.86446537]\n",
      " [1237.70028682    0.         1737.74250106 ... 1232.12539946\n",
      "   311.07073151  384.19656427]\n",
      " [2801.67610548 1737.74250106    0.         ... 2304.89045293\n",
      "  1728.98178128 1454.7982678 ]\n",
      " ...\n",
      " [ 915.87389962 1232.12539946 2304.89045293 ...    0.\n",
      "  1431.25748906 1406.1699755 ]\n",
      " [1449.96379265  311.07073151 1728.98178128 ... 1431.25748906\n",
      "     0.          285.75164042]\n",
      " [1578.86446537  384.19656427 1454.7982678  ... 1406.1699755\n",
      "   285.75164042    0.        ]]\n"
     ]
    }
   ],
   "source": [
    "print(eu_dist)"
   ]
  },
  {
   "cell_type": "markdown",
   "metadata": {},
   "source": [
    "How well does the distance function work? When does it do well/badly?\n",
    "\n",
    "I have calculated the Distance matrix between some of the variables. The notion of distance is attached to the neighborhood. Houses in the same neighborhood are similar and hence tend to have a less distance between them. "
   ]
  },
  {
   "cell_type": "markdown",
   "metadata": {},
   "source": [
    "## Part 5 - Clustering"
   ]
  },
  {
   "cell_type": "code",
   "execution_count": 647,
   "metadata": {},
   "outputs": [
    {
     "data": {
      "text/html": [
       "<div>\n",
       "<style scoped>\n",
       "    .dataframe tbody tr th:only-of-type {\n",
       "        vertical-align: middle;\n",
       "    }\n",
       "\n",
       "    .dataframe tbody tr th {\n",
       "        vertical-align: top;\n",
       "    }\n",
       "\n",
       "    .dataframe thead th {\n",
       "        text-align: right;\n",
       "    }\n",
       "</style>\n",
       "<table border=\"1\" class=\"dataframe\">\n",
       "  <thead>\n",
       "    <tr style=\"text-align: right;\">\n",
       "      <th></th>\n",
       "      <th>MSSubClass</th>\n",
       "      <th>MSZoning</th>\n",
       "      <th>Street</th>\n",
       "      <th>Condition1</th>\n",
       "      <th>Condition2</th>\n",
       "      <th>BldgType</th>\n",
       "      <th>HouseStyle</th>\n",
       "      <th>RoofStyle</th>\n",
       "      <th>RoofMatl</th>\n",
       "      <th>Exterior1st</th>\n",
       "      <th>Exterior2nd</th>\n",
       "      <th>Foundation</th>\n",
       "      <th>Heating</th>\n",
       "      <th>Electrical</th>\n",
       "      <th>GarageType</th>\n",
       "    </tr>\n",
       "  </thead>\n",
       "  <tbody>\n",
       "    <tr>\n",
       "      <th>0</th>\n",
       "      <td>60</td>\n",
       "      <td>RL</td>\n",
       "      <td>Pave</td>\n",
       "      <td>Norm</td>\n",
       "      <td>Norm</td>\n",
       "      <td>1Fam</td>\n",
       "      <td>2Story</td>\n",
       "      <td>Gable</td>\n",
       "      <td>CompShg</td>\n",
       "      <td>VinylSd</td>\n",
       "      <td>VinylSd</td>\n",
       "      <td>PConc</td>\n",
       "      <td>GasA</td>\n",
       "      <td>SBrkr</td>\n",
       "      <td>Attchd</td>\n",
       "    </tr>\n",
       "    <tr>\n",
       "      <th>1</th>\n",
       "      <td>20</td>\n",
       "      <td>RL</td>\n",
       "      <td>Pave</td>\n",
       "      <td>Feedr</td>\n",
       "      <td>Norm</td>\n",
       "      <td>1Fam</td>\n",
       "      <td>1Story</td>\n",
       "      <td>Gable</td>\n",
       "      <td>CompShg</td>\n",
       "      <td>MetalSd</td>\n",
       "      <td>MetalSd</td>\n",
       "      <td>CBlock</td>\n",
       "      <td>GasA</td>\n",
       "      <td>SBrkr</td>\n",
       "      <td>Attchd</td>\n",
       "    </tr>\n",
       "    <tr>\n",
       "      <th>2</th>\n",
       "      <td>60</td>\n",
       "      <td>RL</td>\n",
       "      <td>Pave</td>\n",
       "      <td>Norm</td>\n",
       "      <td>Norm</td>\n",
       "      <td>1Fam</td>\n",
       "      <td>2Story</td>\n",
       "      <td>Gable</td>\n",
       "      <td>CompShg</td>\n",
       "      <td>VinylSd</td>\n",
       "      <td>VinylSd</td>\n",
       "      <td>PConc</td>\n",
       "      <td>GasA</td>\n",
       "      <td>SBrkr</td>\n",
       "      <td>Attchd</td>\n",
       "    </tr>\n",
       "    <tr>\n",
       "      <th>3</th>\n",
       "      <td>70</td>\n",
       "      <td>RL</td>\n",
       "      <td>Pave</td>\n",
       "      <td>Norm</td>\n",
       "      <td>Norm</td>\n",
       "      <td>1Fam</td>\n",
       "      <td>2Story</td>\n",
       "      <td>Gable</td>\n",
       "      <td>CompShg</td>\n",
       "      <td>Wd Sdng</td>\n",
       "      <td>Wd Shng</td>\n",
       "      <td>BrkTil</td>\n",
       "      <td>GasA</td>\n",
       "      <td>SBrkr</td>\n",
       "      <td>Detchd</td>\n",
       "    </tr>\n",
       "    <tr>\n",
       "      <th>4</th>\n",
       "      <td>60</td>\n",
       "      <td>RL</td>\n",
       "      <td>Pave</td>\n",
       "      <td>Norm</td>\n",
       "      <td>Norm</td>\n",
       "      <td>1Fam</td>\n",
       "      <td>2Story</td>\n",
       "      <td>Gable</td>\n",
       "      <td>CompShg</td>\n",
       "      <td>VinylSd</td>\n",
       "      <td>VinylSd</td>\n",
       "      <td>PConc</td>\n",
       "      <td>GasA</td>\n",
       "      <td>SBrkr</td>\n",
       "      <td>Attchd</td>\n",
       "    </tr>\n",
       "  </tbody>\n",
       "</table>\n",
       "</div>"
      ],
      "text/plain": [
       "   MSSubClass MSZoning Street Condition1 Condition2 BldgType HouseStyle  \\\n",
       "0          60       RL   Pave       Norm       Norm     1Fam     2Story   \n",
       "1          20       RL   Pave      Feedr       Norm     1Fam     1Story   \n",
       "2          60       RL   Pave       Norm       Norm     1Fam     2Story   \n",
       "3          70       RL   Pave       Norm       Norm     1Fam     2Story   \n",
       "4          60       RL   Pave       Norm       Norm     1Fam     2Story   \n",
       "\n",
       "  RoofStyle RoofMatl Exterior1st Exterior2nd Foundation Heating Electrical  \\\n",
       "0     Gable  CompShg     VinylSd     VinylSd      PConc    GasA      SBrkr   \n",
       "1     Gable  CompShg     MetalSd     MetalSd     CBlock    GasA      SBrkr   \n",
       "2     Gable  CompShg     VinylSd     VinylSd      PConc    GasA      SBrkr   \n",
       "3     Gable  CompShg     Wd Sdng     Wd Shng     BrkTil    GasA      SBrkr   \n",
       "4     Gable  CompShg     VinylSd     VinylSd      PConc    GasA      SBrkr   \n",
       "\n",
       "  GarageType  \n",
       "0     Attchd  \n",
       "1     Attchd  \n",
       "2     Attchd  \n",
       "3     Detchd  \n",
       "4     Attchd  "
      ]
     },
     "metadata": {},
     "output_type": "display_data"
    },
    {
     "data": {
      "text/plain": [
       "array([10, 10,  0, ..., 10, 10, 10], dtype=int64)"
      ]
     },
     "metadata": {},
     "output_type": "display_data"
    },
    {
     "data": {
      "image/png": "[encoded data removed]",
      "text/plain": [
       "<Figure size 432x288 with 1 Axes>"
      ]
     },
     "metadata": {
      "needs_background": "light"
     },
     "output_type": "display_data"
    },
    {
     "data": {
      "image/png": "[encoded data removed]",
      "text/plain": [
       "<Figure size 432x288 with 1 Axes>"
      ]
     },
     "metadata": {
      "needs_background": "light"
     },
     "output_type": "display_data"
    },
    {
     "data": {
      "text/plain": [
       "<Figure size 432x216 with 0 Axes>"
      ]
     },
     "metadata": {},
     "output_type": "display_data"
    }
   ],
   "source": [
    "#code for clustering and visualization\n",
    "\n",
    "display(train_houses_dist_ohe.head())\n",
    "ohe_dist_houses = pd.get_dummies(train_houses_dist_ohe)\n",
    "ohe_dist_houses.shape\n",
    "\n",
    "ohe_dist_houses_with_ids_neighbors = pd.concat([dist_houses, ohe_dist_houses], axis=1)\n",
    "\n",
    "# Agglomerative clustering\n",
    "cluster = AgglomerativeClustering(n_clusters=15, affinity='euclidean', linkage='ward')\n",
    "display(cluster.fit_predict(distance_data))\n",
    "\n",
    "\n",
    "# k means clustering\n",
    "kmeans = KMeans(n_clusters=15)\n",
    "kmeans.fit(eu_dist)\n",
    "y_kmeans = kmeans.predict(eu_dist)\n",
    "\n",
    "plt.scatter(eu_dist[:,0], eu_dist[:,1], c=y_kmeans, s=1000,cmap='viridis')\n",
    "\n",
    "centers = kmeans.cluster_centers_\n",
    "plt.scatter(centers[:, 0], centers[:, 1], c='black', alpha=0.5);\n",
    "\n",
    "\n",
    "new_data_1 = pd.read_csv('C:/Fall2019/DSF/Assignment2/Data/train.csv')\n",
    "groupby_neighborhood_1 = new_data[['Neighborhood', 'SalePrice']]\n",
    "\n",
    "neighborhoods_1 = new_data_1.Neighborhood.unique().tolist()\n",
    "ng1 = groupby_neighborhood.groupby('Neighborhood').mean()\n",
    "ng1 = ng.sort_values(by='SalePrice')\n",
    "plot1 = (ng1).plot(color='brown')\n",
    "fig= plt.figure(figsize=(6,3))"
   ]
  },
  {
   "cell_type": "markdown",
   "metadata": {},
   "source": [
    "How well do the clusters reflect neighborhood boundaries? Write a discussion on what your clusters capture and how well they work.\n",
    "\n",
    "I have applied agglomerative and k means clustering. The boundaries were reflected more clearly in the k means clustering algorithm.\n",
    "I have taken the number of clusters to be 15 for optimal performance of k means clustering. The number of possible neighborhoods is 25. Hence, all boundaries of neighborhood may not be reflected clearly here.\n",
    "\n",
    "The plot above is highly reflective of 'Neighborhood' and the mean 'SalePrice'. \n",
    "So, the points lying around 0-50000 are the ones which have that SalePrice in that range and the cheapest neighborhood is reflected in those points. \n",
    "\n",
    "The two plots above can be compared and the points lying cloesest to the origin are the points in the neighborhood closest to the origin. And so on."
   ]
  },
  {
   "cell_type": "markdown",
   "metadata": {},
   "source": [
    "## Part 6 - Linear Regression"
   ]
  },
  {
   "cell_type": "code",
   "execution_count": 472,
   "metadata": {},
   "outputs": [
    {
     "data": {
      "text/plain": [
       "(15, 1)"
      ]
     },
     "metadata": {},
     "output_type": "display_data"
    },
    {
     "name": "stdout",
     "output_type": "stream",
     "text": [
      "15\n",
      "0.9267547638773315\n"
     ]
    },
    {
     "data": {
      "text/plain": [
       "(1459, 2)"
      ]
     },
     "execution_count": 472,
     "metadata": {},
     "output_type": "execute_result"
    }
   ],
   "source": [
    "#  code for linear regression\n",
    "\n",
    "# We will use those variables for predicting the sale price which have the highest correlation with the SalePrice variable.\n",
    "house_score_exterqual_ordinal_neighbors['logSalePrice'] = np.log(house_score_exterqual_ordinal_neighbors['SalePrice'])\n",
    "X = house_score_exterqual_ordinal_neighbors[['OverallQual', 'YearBuilt' , 'GrLivArea', 'GarageArea','ExterQual','KitchenQual', 'Neighborhood']]\n",
    "y = house_score_exterqual_ordinal_neighbors[['logSalePrice']]\n",
    "\n",
    "X_train,X_test,y_train,y_test=train_test_split(X,y,test_size=0.01,random_state=0)\n",
    "regr = linear_model.LinearRegression()\n",
    "regr.fit(X_train, y_train)\n",
    "\n",
    "y_pred = regr.predict(X_test)\n",
    "\n",
    "accuracy = regr.score(X_test, y_test)\n",
    "#print(accuracy)\n",
    "\n",
    "# Prints the r2 score for the linear regression model\n",
    "\n",
    "print(r2_score(y_test, y_pred))\n",
    "\n",
    "test_file = pd.read_csv('C:/Fall2019/DSF/Assignment2/Data/test.csv')\n",
    "test_file_variables = test_file[['OverallQual', 'YearBuilt' , 'GrLivArea', 'GarageArea','ExterQual','KitchenQual','Neighborhood']]\n",
    "mapper = {'Ex':5, 'Gd':4, 'TA':3, 'Fa':2, 'Po':1}\n",
    "\n",
    "test_file_variables_ordinal = test_file_variables.replace(mapper)\n",
    "test_file_variables_ordinal_neighbor = test_file_variables_ordinal.replace(neighbor_mapper)\n",
    "test_file_variables_ordinal_neighbor.fillna(0, inplace=True)\n",
    "test_file_predict = regr.predict(test_file_variables_ordinal_neighbor)\n",
    "\n",
    "\n",
    "sampleSubmission = pd.read_csv(\"C:/Fall2019/DSF/Assignment2/Data/sample_submission.csv\")\n",
    "sampleSubmission['SalePrice'] = np.exp(test_file_predict)\n",
    "\n",
    "sampleSubmission.to_csv(\"C:/Fall2019/DSF/Assignment2/Data/sampleSubmission1.csv\")\n",
    "sampleSubmission.shape\n"
   ]
  },
  {
   "cell_type": "code",
   "execution_count": 439,
   "metadata": {},
   "outputs": [
    {
     "data": {
      "text/html": [
       "<div>\n",
       "<style scoped>\n",
       "    .dataframe tbody tr th:only-of-type {\n",
       "        vertical-align: middle;\n",
       "    }\n",
       "\n",
       "    .dataframe tbody tr th {\n",
       "        vertical-align: top;\n",
       "    }\n",
       "\n",
       "    .dataframe thead th {\n",
       "        text-align: right;\n",
       "    }\n",
       "</style>\n",
       "<table border=\"1\" class=\"dataframe\">\n",
       "  <thead>\n",
       "    <tr style=\"text-align: right;\">\n",
       "      <th></th>\n",
       "      <th>OverallQual</th>\n",
       "      <th>YearBuilt</th>\n",
       "      <th>TotalBsmtSF</th>\n",
       "      <th>GrLivArea</th>\n",
       "      <th>GarageArea</th>\n",
       "      <th>TotRmsAbvGrd</th>\n",
       "      <th>ExterQual</th>\n",
       "      <th>KitchenQual</th>\n",
       "      <th>SalePrice</th>\n",
       "      <th>score</th>\n",
       "      <th>Neighborhood</th>\n",
       "    </tr>\n",
       "  </thead>\n",
       "  <tbody>\n",
       "    <tr>\n",
       "      <th>0</th>\n",
       "      <td>7</td>\n",
       "      <td>2003</td>\n",
       "      <td>856</td>\n",
       "      <td>1710</td>\n",
       "      <td>548</td>\n",
       "      <td>8</td>\n",
       "      <td>4</td>\n",
       "      <td>4</td>\n",
       "      <td>208500</td>\n",
       "      <td>32.369067</td>\n",
       "      <td>17</td>\n",
       "    </tr>\n",
       "    <tr>\n",
       "      <th>1</th>\n",
       "      <td>6</td>\n",
       "      <td>1976</td>\n",
       "      <td>1262</td>\n",
       "      <td>1262</td>\n",
       "      <td>460</td>\n",
       "      <td>6</td>\n",
       "      <td>3</td>\n",
       "      <td>3</td>\n",
       "      <td>181500</td>\n",
       "      <td>30.920918</td>\n",
       "      <td>21</td>\n",
       "    </tr>\n",
       "    <tr>\n",
       "      <th>2</th>\n",
       "      <td>7</td>\n",
       "      <td>2001</td>\n",
       "      <td>920</td>\n",
       "      <td>1786</td>\n",
       "      <td>608</td>\n",
       "      <td>6</td>\n",
       "      <td>4</td>\n",
       "      <td>4</td>\n",
       "      <td>223500</td>\n",
       "      <td>33.692386</td>\n",
       "      <td>17</td>\n",
       "    </tr>\n",
       "    <tr>\n",
       "      <th>3</th>\n",
       "      <td>7</td>\n",
       "      <td>1915</td>\n",
       "      <td>756</td>\n",
       "      <td>1717</td>\n",
       "      <td>642</td>\n",
       "      <td>7</td>\n",
       "      <td>3</td>\n",
       "      <td>4</td>\n",
       "      <td>140000</td>\n",
       "      <td>31.905077</td>\n",
       "      <td>18</td>\n",
       "    </tr>\n",
       "    <tr>\n",
       "      <th>4</th>\n",
       "      <td>8</td>\n",
       "      <td>2000</td>\n",
       "      <td>1145</td>\n",
       "      <td>2198</td>\n",
       "      <td>836</td>\n",
       "      <td>9</td>\n",
       "      <td>4</td>\n",
       "      <td>4</td>\n",
       "      <td>250000</td>\n",
       "      <td>39.607575</td>\n",
       "      <td>25</td>\n",
       "    </tr>\n",
       "  </tbody>\n",
       "</table>\n",
       "</div>"
      ],
      "text/plain": [
       "   OverallQual  YearBuilt  TotalBsmtSF  GrLivArea  GarageArea  TotRmsAbvGrd  \\\n",
       "0            7       2003          856       1710         548             8   \n",
       "1            6       1976         1262       1262         460             6   \n",
       "2            7       2001          920       1786         608             6   \n",
       "3            7       1915          756       1717         642             7   \n",
       "4            8       2000         1145       2198         836             9   \n",
       "\n",
       "   ExterQual  KitchenQual  SalePrice      score  Neighborhood  \n",
       "0          4            4     208500  32.369067            17  \n",
       "1          3            3     181500  30.920918            21  \n",
       "2          4            4     223500  33.692386            17  \n",
       "3          3            4     140000  31.905077            18  \n",
       "4          4            4     250000  39.607575            25  "
      ]
     },
     "metadata": {},
     "output_type": "display_data"
    }
   ],
   "source": [
    "# Converting the categorical nominal variable 'Neighborhood' to ordinal variable according to the mean of the SalePrice\n",
    "\n",
    "neighborhood = train_houses[['Neighborhood','SalePrice']]\n",
    "neighborGroupBy = neighborhood.groupby(by='Neighborhood').mean()\n",
    "#print(neighborGroupBy)\n",
    "neighborGroupBy.sort_values(by='SalePrice')\n",
    "neighbor_mapper = {'MeadowV':1,\n",
    "'IDOTRR':2,\n",
    "'BrDale':3,\n",
    "'BrkSide':4,\n",
    "'Edwards':5,\n",
    "'OldTown':6,\n",
    "'Sawyer':7,\n",
    "'Blueste':8,\n",
    "'SWISU':9,\n",
    "'NPkVill':10,\n",
    "'NAmes':11,\n",
    "'Mitchel':12,\n",
    "'SawyerW':13,\n",
    "'NWAmes':14,\n",
    "'Gilbert':15,\n",
    "'Blmngtn':16,\n",
    "'CollgCr':17,\n",
    "'Crawfor':18,\n",
    "'ClearCr':19,\n",
    "'Somerst':20,\n",
    "'Veenker':21,\n",
    "'Timber':22,\n",
    "'StoneBr':23,\n",
    "'NridgHt':24,\n",
    "'NoRidge':25}\n",
    "\n",
    "house_score_exterqual_ordinal['Neighborhood'] = train_houses[['Neighborhood']]\n",
    "house_score_exterqual_ordinal_neighbors = house_score_exterqual_ordinal.replace(neighbor_mapper)\n",
    "display(house_score_exterqual_ordinal_neighbors.head())"
   ]
  },
  {
   "cell_type": "markdown",
   "metadata": {},
   "source": [
    "How well/badly does it work? Which are the most important variables?\n",
    "\n",
    "So, I experimented with many variables. Mostly numerical variables which has a significant correlation with the SalePrice. \n",
    "In the end, I got to know the significance of the neighborhood with the SalePrice as this is true in most parts of the world. For example, prices of houses in Manhattan will definitely be higher than that of houses in Stony Brook!\n",
    "So, I included neighborhood in the linear regression model for prediction."
   ]
  },
  {
   "cell_type": "markdown",
   "metadata": {},
   "source": [
    "## Part 7 - External Dataset"
   ]
  },
  {
   "cell_type": "code",
   "execution_count": 598,
   "metadata": {},
   "outputs": [
    {
     "data": {
      "text/html": [
       "<div>\n",
       "<style scoped>\n",
       "    .dataframe tbody tr th:only-of-type {\n",
       "        vertical-align: middle;\n",
       "    }\n",
       "\n",
       "    .dataframe tbody tr th {\n",
       "        vertical-align: top;\n",
       "    }\n",
       "\n",
       "    .dataframe thead th {\n",
       "        text-align: right;\n",
       "    }\n",
       "</style>\n",
       "<table border=\"1\" class=\"dataframe\">\n",
       "  <thead>\n",
       "    <tr style=\"text-align: right;\">\n",
       "      <th></th>\n",
       "      <th>DATE</th>\n",
       "      <th>IAHOWN</th>\n",
       "    </tr>\n",
       "  </thead>\n",
       "  <tbody>\n",
       "    <tr>\n",
       "      <th>0</th>\n",
       "      <td>1984</td>\n",
       "      <td>71.3</td>\n",
       "    </tr>\n",
       "    <tr>\n",
       "      <th>1</th>\n",
       "      <td>1985</td>\n",
       "      <td>69.9</td>\n",
       "    </tr>\n",
       "    <tr>\n",
       "      <th>2</th>\n",
       "      <td>1986</td>\n",
       "      <td>69.2</td>\n",
       "    </tr>\n",
       "    <tr>\n",
       "      <th>3</th>\n",
       "      <td>1987</td>\n",
       "      <td>67.7</td>\n",
       "    </tr>\n",
       "    <tr>\n",
       "      <th>4</th>\n",
       "      <td>1988</td>\n",
       "      <td>68.3</td>\n",
       "    </tr>\n",
       "  </tbody>\n",
       "</table>\n",
       "</div>"
      ],
      "text/plain": [
       "   DATE  IAHOWN\n",
       "0  1984    71.3\n",
       "1  1985    69.9\n",
       "2  1986    69.2\n",
       "3  1987    67.7\n",
       "4  1988    68.3"
      ]
     },
     "metadata": {},
     "output_type": "display_data"
    },
    {
     "data": {
      "text/html": [
       "<div>\n",
       "<style scoped>\n",
       "    .dataframe tbody tr th:only-of-type {\n",
       "        vertical-align: middle;\n",
       "    }\n",
       "\n",
       "    .dataframe tbody tr th {\n",
       "        vertical-align: top;\n",
       "    }\n",
       "\n",
       "    .dataframe thead th {\n",
       "        text-align: right;\n",
       "    }\n",
       "</style>\n",
       "<table border=\"1\" class=\"dataframe\">\n",
       "  <thead>\n",
       "    <tr style=\"text-align: right;\">\n",
       "      <th></th>\n",
       "      <th>OverallQual</th>\n",
       "      <th>YearBuilt</th>\n",
       "      <th>TotalBsmtSF</th>\n",
       "      <th>GrLivArea</th>\n",
       "      <th>GarageArea</th>\n",
       "      <th>TotRmsAbvGrd</th>\n",
       "      <th>ExterQual</th>\n",
       "      <th>KitchenQual</th>\n",
       "      <th>SalePrice</th>\n",
       "      <th>score</th>\n",
       "      <th>Neighborhood</th>\n",
       "      <th>logSalePrice</th>\n",
       "      <th>LandContour</th>\n",
       "      <th>LotConfig</th>\n",
       "      <th>LandSlope</th>\n",
       "      <th>Condition1</th>\n",
       "      <th>Condition2</th>\n",
       "      <th>YrSold</th>\n",
       "      <th>DATE</th>\n",
       "      <th>IAHOWN</th>\n",
       "    </tr>\n",
       "  </thead>\n",
       "  <tbody>\n",
       "    <tr>\n",
       "      <th>0</th>\n",
       "      <td>7</td>\n",
       "      <td>2003</td>\n",
       "      <td>856</td>\n",
       "      <td>1710</td>\n",
       "      <td>548</td>\n",
       "      <td>8</td>\n",
       "      <td>4</td>\n",
       "      <td>4</td>\n",
       "      <td>208500</td>\n",
       "      <td>32.369067</td>\n",
       "      <td>17</td>\n",
       "      <td>12.247694</td>\n",
       "      <td>3</td>\n",
       "      <td>4</td>\n",
       "      <td>0</td>\n",
       "      <td>2</td>\n",
       "      <td>2</td>\n",
       "      <td>2008</td>\n",
       "      <td>2008</td>\n",
       "      <td>74.0</td>\n",
       "    </tr>\n",
       "    <tr>\n",
       "      <th>1</th>\n",
       "      <td>7</td>\n",
       "      <td>2001</td>\n",
       "      <td>920</td>\n",
       "      <td>1786</td>\n",
       "      <td>608</td>\n",
       "      <td>6</td>\n",
       "      <td>4</td>\n",
       "      <td>4</td>\n",
       "      <td>223500</td>\n",
       "      <td>33.692386</td>\n",
       "      <td>17</td>\n",
       "      <td>12.317167</td>\n",
       "      <td>3</td>\n",
       "      <td>4</td>\n",
       "      <td>0</td>\n",
       "      <td>2</td>\n",
       "      <td>2</td>\n",
       "      <td>2008</td>\n",
       "      <td>2008</td>\n",
       "      <td>74.0</td>\n",
       "    </tr>\n",
       "    <tr>\n",
       "      <th>2</th>\n",
       "      <td>8</td>\n",
       "      <td>2000</td>\n",
       "      <td>1145</td>\n",
       "      <td>2198</td>\n",
       "      <td>836</td>\n",
       "      <td>9</td>\n",
       "      <td>4</td>\n",
       "      <td>4</td>\n",
       "      <td>250000</td>\n",
       "      <td>39.607575</td>\n",
       "      <td>25</td>\n",
       "      <td>12.429216</td>\n",
       "      <td>3</td>\n",
       "      <td>2</td>\n",
       "      <td>0</td>\n",
       "      <td>2</td>\n",
       "      <td>2</td>\n",
       "      <td>2008</td>\n",
       "      <td>2008</td>\n",
       "      <td>74.0</td>\n",
       "    </tr>\n",
       "    <tr>\n",
       "      <th>3</th>\n",
       "      <td>7</td>\n",
       "      <td>1931</td>\n",
       "      <td>952</td>\n",
       "      <td>1774</td>\n",
       "      <td>468</td>\n",
       "      <td>8</td>\n",
       "      <td>3</td>\n",
       "      <td>3</td>\n",
       "      <td>129900</td>\n",
       "      <td>32.527662</td>\n",
       "      <td>6</td>\n",
       "      <td>11.774520</td>\n",
       "      <td>3</td>\n",
       "      <td>4</td>\n",
       "      <td>0</td>\n",
       "      <td>0</td>\n",
       "      <td>0</td>\n",
       "      <td>2008</td>\n",
       "      <td>2008</td>\n",
       "      <td>74.0</td>\n",
       "    </tr>\n",
       "    <tr>\n",
       "      <th>4</th>\n",
       "      <td>5</td>\n",
       "      <td>1939</td>\n",
       "      <td>991</td>\n",
       "      <td>1077</td>\n",
       "      <td>205</td>\n",
       "      <td>5</td>\n",
       "      <td>3</td>\n",
       "      <td>3</td>\n",
       "      <td>118000</td>\n",
       "      <td>26.005276</td>\n",
       "      <td>4</td>\n",
       "      <td>11.678440</td>\n",
       "      <td>3</td>\n",
       "      <td>0</td>\n",
       "      <td>0</td>\n",
       "      <td>0</td>\n",
       "      <td>0</td>\n",
       "      <td>2008</td>\n",
       "      <td>2008</td>\n",
       "      <td>74.0</td>\n",
       "    </tr>\n",
       "  </tbody>\n",
       "</table>\n",
       "</div>"
      ],
      "text/plain": [
       "   OverallQual  YearBuilt  TotalBsmtSF  GrLivArea  GarageArea  TotRmsAbvGrd  \\\n",
       "0            7       2003          856       1710         548             8   \n",
       "1            7       2001          920       1786         608             6   \n",
       "2            8       2000         1145       2198         836             9   \n",
       "3            7       1931          952       1774         468             8   \n",
       "4            5       1939          991       1077         205             5   \n",
       "\n",
       "   ExterQual  KitchenQual  SalePrice      score  Neighborhood  logSalePrice  \\\n",
       "0          4            4     208500  32.369067            17     12.247694   \n",
       "1          4            4     223500  33.692386            17     12.317167   \n",
       "2          4            4     250000  39.607575            25     12.429216   \n",
       "3          3            3     129900  32.527662             6     11.774520   \n",
       "4          3            3     118000  26.005276             4     11.678440   \n",
       "\n",
       "   LandContour  LotConfig  LandSlope  Condition1  Condition2  YrSold  DATE  \\\n",
       "0            3          4          0           2           2    2008  2008   \n",
       "1            3          4          0           2           2    2008  2008   \n",
       "2            3          2          0           2           2    2008  2008   \n",
       "3            3          4          0           0           0    2008  2008   \n",
       "4            3          0          0           0           0    2008  2008   \n",
       "\n",
       "   IAHOWN  \n",
       "0    74.0  \n",
       "1    74.0  \n",
       "2    74.0  \n",
       "3    74.0  \n",
       "4    74.0  "
      ]
     },
     "metadata": {},
     "output_type": "display_data"
    },
    {
     "name": "stdout",
     "output_type": "stream",
     "text": [
      "Accuracy after merging the external data: \n",
      "0.8656861406433914\n",
      "\n",
      "Accuracy before merging the external data: \n",
      "0.92675\n"
     ]
    }
   ],
   "source": [
    "# code to import external dataset and test\n",
    "\n",
    "ownership_rate = pd.read_csv('C:/Fall2019/DSF/Assignment2/Data/IAHOWN.csv')\n",
    "ownership_rate['DATE'] = pd.to_datetime(ownership_rate['DATE'])\n",
    "ownership_rate['DATE'] = ownership_rate['DATE'].dt.year\n",
    "display(ownership_rate.head())\n",
    "\n",
    "house_with_yr_sold = house_score_exterqual_ordinal_neighbors\n",
    "house_with_yr_sold['YrSold'] = train_houses['YrSold']\n",
    "merged = pd.merge(house_with_yr_sold, ownership_rate, left_on = 'YrSold', right_on = 'DATE')\n",
    "display(merged.head())\n",
    "\n",
    "X_merged = merged[['OverallQual', 'YearBuilt' , 'GrLivArea', 'GarageArea','ExterQual','KitchenQual', 'Neighborhood', 'IAHOWN']]\n",
    "y_merged = merged[['logSalePrice']]\n",
    "X_merged_train,X_merged_test,y_merged_train,y_merged_test=train_test_split(X_merged,y_merged,test_size=0.01,random_state=0)\n",
    "regr_merged = linear_model.LinearRegression()\n",
    "regr_merged.fit(X_merged_train, y_merged_train)\n",
    "\n",
    "y_pred_merged = regr_merged.predict(X_merged_test)\n",
    "\n",
    "#print(accuracy)\n",
    "\n",
    "# Prints the r2 score for the linear regression model\n",
    "print(\"Accuracy after merging the external data: \")\n",
    "print(r2_score(y_merged_test, y_pred_merged))\n",
    "print('')\n",
    "print(\"Accuracy before merging the external data: \")\n",
    "print('0.92675')"
   ]
  },
  {
   "cell_type": "markdown",
   "metadata": {},
   "source": [
    "Describe the dataset and whether this data helps with prediction.\n",
    "\n",
    "There is a dataset of Homeownership Rate for the state of Iowa, which I found on FRED Economic Data website (https://fred.stlouisfed.org)\n",
    "\n",
    "This dataset talks about the rate of ownership of the houses inthe state of Iowa for a particular year starting from the year of 1984 up until 2018.\n",
    "\n",
    "I integrated this dataset in my train data to check whether the ownership rate of the houses affected the sale price or not.\n",
    "Ideally, the homeownership rate should affect the SalePrice of the house as more the ownership rate of the year, more the people are buying the houses and more the demand and SalePrice should increase proportionally.\n",
    "\n",
    "In the external dataset, first I extracted the year from the date provided.\n",
    "Then, I merged the two tables based on year provided in the external dataset and the year the house was sold in the original data which makes sense because we would check the home ownership rate only while buying the house.\n",
    "\n",
    "As we can see from the code above that the accuracy of the simple linear regression model decreases from approx. 0.92 to 0.86 after we merge the external data with the original data, we would not be using it for further prediction as this will only become a hindrance for us in predicting good values.\n",
    "\n",
    "So, this data clearly does not help with the prediction."
   ]
  },
  {
   "cell_type": "markdown",
   "metadata": {},
   "source": [
    "## Part 8 - Permutation Test"
   ]
  },
  {
   "cell_type": "code",
   "execution_count": 583,
   "metadata": {},
   "outputs": [],
   "source": [
    "# Create a redundant data frame for doing permutation tests and add all the permutation columns in it\n",
    "permutation_df = house_score_exterqual_ordinal_neighbors\n",
    "\n",
    "# Meaningless variables to be included for permutation tests = LandContour, LotConfig, LandSlope, Condition1, Condition2\n",
    "permutation_df['LandContour'] = train_houses['LandContour']\n",
    "permutation_df['LotConfig'] = train_houses['LotConfig']\n",
    "permutation_df['LandSlope'] = train_houses['LandSlope']\n",
    "permutation_df['Condition1'] = train_houses['Condition1']\n",
    "permutation_df['Condition2'] = train_houses['Condition2']\n",
    "\n",
    "permutation_df.fillna(0,inplace=True)\n",
    "\n",
    "le_LandContour = preprocessing.LabelEncoder()\n",
    "le_LotConfig = preprocessing.LabelEncoder()\n",
    "le_LandSlope = preprocessing.LabelEncoder()\n",
    "le_Condition1 = preprocessing.LabelEncoder()\n",
    "le_Condition2 = preprocessing.LabelEncoder()\n",
    "permutation_df['LotConfig'] = le_LotConfig.fit_transform(permutation_df['LotConfig'])\n",
    "permutation_df['LandContour'] = le_LandContour.fit_transform(permutation_df['LandContour'])\n",
    "permutation_df['LandSlope'] = le_LandSlope.fit_transform(permutation_df['LandSlope'])\n",
    "permutation_df['Condition1'] = le_Condition1.fit_transform(permutation_df['Condition1'])\n",
    "permutation_df['Condition2'] = le_Condition2.fit_transform(permutation_df['Condition1'])"
   ]
  },
  {
   "cell_type": "code",
   "execution_count": 532,
   "metadata": {},
   "outputs": [
    {
     "name": "stdout",
     "output_type": "stream",
     "text": [
      "Automatically created module for IPython interactive environment\n",
      "Column:  OverallQual\n"
     ]
    },
    {
     "data": {
      "image/png": "[encoded data removed]",
      "text/plain": [
       "<Figure size 432x288 with 1 Axes>"
      ]
     },
     "metadata": {
      "needs_background": "light"
     },
     "output_type": "display_data"
    },
    {
     "name": "stdout",
     "output_type": "stream",
     "text": [
      "PValue with column : OverallQual\n",
      "0.0\n",
      "\n",
      "\n",
      "\n",
      "Column:  GrLivArea\n"
     ]
    },
    {
     "data": {
      "image/png": "[encoded data removed]",
      "text/plain": [
       "<Figure size 432x288 with 1 Axes>"
      ]
     },
     "metadata": {
      "needs_background": "light"
     },
     "output_type": "display_data"
    },
    {
     "name": "stdout",
     "output_type": "stream",
     "text": [
      "PValue with column : GrLivArea\n",
      "0.0\n",
      "\n",
      "\n",
      "\n",
      "Column:  GarageArea\n"
     ]
    },
    {
     "data": {
      "image/png": "[encoded data removed]",
      "text/plain": [
       "<Figure size 432x288 with 1 Axes>"
      ]
     },
     "metadata": {
      "needs_background": "light"
     },
     "output_type": "display_data"
    },
    {
     "name": "stdout",
     "output_type": "stream",
     "text": [
      "PValue with column : GarageArea\n",
      "0.01\n",
      "\n",
      "\n",
      "\n",
      "Column:  ExterQual\n"
     ]
    },
    {
     "data": {
      "image/png": "[encoded data removed]",
      "text/plain": [
       "<Figure size 432x288 with 1 Axes>"
      ]
     },
     "metadata": {
      "needs_background": "light"
     },
     "output_type": "display_data"
    },
    {
     "name": "stdout",
     "output_type": "stream",
     "text": [
      "PValue with column : ExterQual\n",
      "0.347\n",
      "\n",
      "\n",
      "\n",
      "Column:  KitchenQual\n"
     ]
    },
    {
     "data": {
      "image/png": "[encoded data removed]",
      "text/plain": [
       "<Figure size 432x288 with 1 Axes>"
      ]
     },
     "metadata": {
      "needs_background": "light"
     },
     "output_type": "display_data"
    },
    {
     "name": "stdout",
     "output_type": "stream",
     "text": [
      "PValue with column : KitchenQual\n",
      "0.505\n",
      "\n",
      "\n",
      "\n",
      "Column:  LandContour\n"
     ]
    },
    {
     "data": {
      "image/png": "[encoded data removed]",
      "text/plain": [
       "<Figure size 432x288 with 1 Axes>"
      ]
     },
     "metadata": {
      "needs_background": "light"
     },
     "output_type": "display_data"
    },
    {
     "name": "stdout",
     "output_type": "stream",
     "text": [
      "PValue with column : LandContour\n",
      "0.99\n",
      "\n",
      "\n",
      "\n",
      "Column:  LotConfig\n"
     ]
    },
    {
     "data": {
      "image/png": "[encoded data removed]",
      "text/plain": [
       "<Figure size 432x288 with 1 Axes>"
      ]
     },
     "metadata": {
      "needs_background": "light"
     },
     "output_type": "display_data"
    },
    {
     "name": "stdout",
     "output_type": "stream",
     "text": [
      "PValue with column : LotConfig\n",
      "0.99\n",
      "\n",
      "\n",
      "\n",
      "Column:  LandSlope\n"
     ]
    },
    {
     "data": {
      "image/png": "[encoded data removed]",
      "text/plain": [
       "<Figure size 432x288 with 1 Axes>"
      ]
     },
     "metadata": {
      "needs_background": "light"
     },
     "output_type": "display_data"
    },
    {
     "name": "stdout",
     "output_type": "stream",
     "text": [
      "PValue with column : LandSlope\n",
      "0.99\n",
      "\n",
      "\n",
      "\n",
      "Column:  Condition1\n"
     ]
    },
    {
     "data": {
      "image/png": "[encoded data removed]",
      "text/plain": [
       "<Figure size 432x288 with 1 Axes>"
      ]
     },
     "metadata": {
      "needs_background": "light"
     },
     "output_type": "display_data"
    },
    {
     "name": "stdout",
     "output_type": "stream",
     "text": [
      "PValue with column : Condition1\n",
      "0.99\n",
      "\n",
      "\n",
      "\n",
      "Column:  Condition2\n"
     ]
    },
    {
     "data": {
      "image/png": "[encoded data removed]",
      "text/plain": [
       "<Figure size 432x288 with 1 Axes>"
      ]
     },
     "metadata": {
      "needs_background": "light"
     },
     "output_type": "display_data"
    },
    {
     "name": "stdout",
     "output_type": "stream",
     "text": [
      "PValue with column : Condition2\n",
      "0.99\n",
      "\n",
      "\n",
      "\n"
     ]
    }
   ],
   "source": [
    "# TODO: code for all permutation tests\n",
    "\n",
    "# Variables selected for p test:\n",
    "# Meaningful\n",
    "    # 'OverallQual',\n",
    "    # 'GrLivArea', \n",
    "    # 'GarageArea',\n",
    "    # 'ExterQual',\n",
    "    # 'KitchenQual',\n",
    "    \n",
    "# Meaningless\n",
    "    # 'LandContour',\n",
    "    # 'LotConfig', \n",
    "    # 'LandSlope', \n",
    "    # 'Condition1', \n",
    "    # 'Condition2'\n",
    "\n",
    "# A simple function to return random permutation of the data\n",
    "def permute(df):\n",
    "    df = df.copy()\n",
    "    df.apply(np.random.shuffle)\n",
    "    return df\n",
    "\n",
    "permutation_columns = ['OverallQual', 'GrLivArea', 'GarageArea', 'ExterQual', 'KitchenQual','LandContour', 'LotConfig', 'LandSlope', 'Condition1', 'Condition2']\n",
    "X_whole = house_score_exterqual_ordinal_neighbors[['OverallQual','GrLivArea', 'GarageArea','ExterQual','KitchenQual','LandContour', 'LotConfig', 'LandSlope', 'Condition1', 'Condition2']]\n",
    "y_whole = house_score_exterqual_ordinal_neighbors[['logSalePrice']]\n",
    "\n",
    "# iterate through all the columns selected for permutation testing \n",
    "# Prepare the training data for that single column only by taking 100 random permutations\n",
    "# Perform simple linear regression for that column\n",
    "# Calculate the Root of Mean Square Error (RMSE)\n",
    "# Append the 100 values of RMSE in a list\n",
    "for col in permutation_columns:\n",
    "    rmse_perm = []\n",
    "    print(\"Column: \", col)\n",
    "    for _ in range(100):\n",
    "        \n",
    "        X_perm = permute(X_whole[[col]])\n",
    "        y_perm = permute(y_whole)\n",
    "        X_train_perm,X_test_perm,y_train_perm,y_test_perm=train_test_split(X_perm,y_perm,test_size=0.25,random_state=0)\n",
    "        regr_perm = linear_model.LinearRegression()\n",
    "        regr_perm.fit(X_train_perm, y_train_perm)\n",
    "        y_pred_perm = regr_perm.predict(X_test_perm)\n",
    "        rms = np.sqrt(mean_squared_error(y_test_perm, y_pred_perm))\n",
    "        rmse_perm.append(rms)\n",
    "\n",
    "    # Train the model with the real values of the data \n",
    "    X_train_real,X_test_real,y_train_real,y_test_real = train_test_split(X_whole[[col]],y_whole,test_size=0.01,random_state=0)\n",
    "    # with sklearn\n",
    "    regr_real = linear_model.LinearRegression()\n",
    "    regr_real.fit(X_train_real, y_train_real)\n",
    "    y_pred_real = regr_real.predict(X_test_real)\n",
    "    rms_real = np.sqrt(mean_squared_error(y_test_real, y_pred_real))\n",
    "    \n",
    "    # append the real result to the rmse list\n",
    "    rmse_perm.append(rms_real)\n",
    "    \n",
    "    # Plot the graphs for 10 different columns RMSEs and highlight the RMSE of the real data\n",
    "    n, bins, patches = plt.hist(rmse_perm, 20, density=True, facecolor='g', alpha=0.75, edgecolor='black')\n",
    "    ylim = plt.ylim()\n",
    "    plt.plot(2 * [rmse_perm[100]], ylim, '--g', linewidth=3,\n",
    "             label='Real Score')\n",
    "    plt.ylim(ylim)\n",
    "    plt.legend()\n",
    "    plt.xlabel('Score')\n",
    "    plt.xlabel('RMSE')\n",
    "    plt.ylabel('Frequency')\n",
    "    plt.title('RMSEs of permutation test')\n",
    "    plt.grid(True)\n",
    "    plt.show()\n",
    "    \n",
    "    # Get the pvalue from the permutation scores \n",
    "    rmse_perm.sort()\n",
    "    pos = rmse_perm.index(rms_real)\n",
    "    pvalue = pos/101\n",
    "    print(\"PValue with column :\", col)\n",
    "    pvalue = round(pvalue, 3)\n",
    "    print(pvalue)\n",
    "    \n",
    "    # Added to print new lines between plots \n",
    "    print('')\n",
    "    print('')\n",
    "    print('')\n",
    "    "
   ]
  },
  {
   "cell_type": "markdown",
   "metadata": {},
   "source": [
    "Permutation test results description\n",
    "\n",
    "\n",
    "\n",
    "The first 3 meaningful variables such as OverallQual, GarageArea , GrLivArea have very low pvalues almost equal to 0.00 which means that they are highly correlated to the SalePrice and hence it is statistically significant\n",
    "\n",
    "The next 2 variables ie KitchenQual and ExterQual, which we considered to be quite meaningful ended up have a pvalue of 0.505 and 0.347 which means that they may not be as astatistically significant as we thought them to be.\n",
    "\n",
    "The meaningless variables have very high pvalues of 0.99 which means that our intuition was right and those variables are actually statistically insignificant and meaningless with respect to the prediction of the SalePrice."
   ]
  },
  {
   "cell_type": "markdown",
   "metadata": {},
   "source": [
    "Describe the results."
   ]
  },
  {
   "cell_type": "markdown",
   "metadata": {},
   "source": [
    "XGBoost Model"
   ]
  },
  {
   "cell_type": "code",
   "execution_count": null,
   "metadata": {},
   "outputs": [],
   "source": [
    "# XGBoost Model\n",
    "\n",
    "model = XGBRegressor(n_estimators = 1000, #100-1000\n",
    "    learning_rate = 0.01, #increase while decreasing n_trees\n",
    "    max_depth = 5, #increase incrementally by 1; default 6, increasing can lead to overfit\n",
    "    colsample_bytree = 0.3, # 0.3 to 0.8\n",
    "    gamma = 0) #0, 1 or 5\n",
    "\n",
    "model.fit(X_train, y_train)\n",
    "xgb_preds = model.predict(X_test) #store the predictions for xgbregressor\n",
    "rmse = np.sqrt(mean_squared_error(y_test, xgb_preds))\n",
    "print(rmse)\n",
    "\n",
    "\n",
    "test_file_predict2 = model.predict(test_file_variables_ordinal_neighbor)\n",
    "\n",
    "\n",
    "sampleSubmission2 = pd.read_csv(\"C:/Fall2019/DSF/Assignment2/Data/sample_submission.csv\")\n",
    "sampleSubmission2['SalePrice'] = np.exp(test_file_predict2)\n",
    "\n",
    "sampleSubmission2.to_csv(\"C:/Fall2019/DSF/Assignment2/Data/sampleSubmission2.csv\")\n",
    "sampleSubmission2.shape\n",
    "print(len(xgb_preds))"
   ]
  },
  {
   "cell_type": "markdown",
   "metadata": {},
   "source": [
    "Kernel Ridge Regression Model"
   ]
  },
  {
   "cell_type": "code",
   "execution_count": null,
   "metadata": {},
   "outputs": [],
   "source": [
    "# Kernel Ridge Regression:\n",
    "\n",
    "clf = KernelRidge(alpha=1.0)\n",
    "clf.fit(X_train, y_train) \n",
    "\n",
    "test_file_predict3 = clf.predict(test_file_variables_ordinal_neighbor)\n",
    "\n",
    "\n",
    "sampleSubmission3 = pd.read_csv(\"C:/Fall2019/DSF/Assignment2/Data/sample_submission.csv\")\n",
    "sampleSubmission3['SalePrice'] = np.exp(test_file_predict3)\n",
    "\n",
    "sampleSubmission3.to_csv(\"C:/Fall2019/DSF/Assignment2/Data/sampleSubmission3.csv\")\n",
    "sampleSubmission3.shape\n",
    "print(len(test_file_predict3))"
   ]
  },
  {
   "cell_type": "markdown",
   "metadata": {},
   "source": [
    "Lasso Regression"
   ]
  },
  {
   "cell_type": "code",
   "execution_count": null,
   "metadata": {},
   "outputs": [],
   "source": [
    "# Lasso Regression\n",
    "\n",
    "clf2 = linear_model.Lasso(alpha=0.1)\n",
    "clf2.fit(X_train, y_train)\n",
    "\n",
    "test_file_predict4 = clf2.predict(test_file_variables_ordinal_neighbor)\n",
    "\n",
    "\n",
    "sampleSubmission4 = pd.read_csv(\"C:/Fall2019/DSF/Assignment2/Data/sample_submission.csv\")\n",
    "sampleSubmission4['SalePrice'] = np.exp(test_file_predict4)\n",
    "\n",
    "sampleSubmission4.to_csv(\"C:/Fall2019/DSF/Assignment2/Data/sampleSubmission4.csv\")"
   ]
  },
  {
   "cell_type": "markdown",
   "metadata": {},
   "source": [
    "Comparison of Different Models\n",
    "\n",
    "1) Linear Regression Model: (done in 6th question)\n",
    "\n",
    "This model did not perform very well as expected. Linear Regression model just finds the linear relationship between the independent variables and the dependent variable. When I uploaded the results to Kaggle, I was getting a score of 0.1924\n",
    "\n",
    "2) XGBoost Model:\n",
    "\n",
    "This model improved the model significantly and gave the Kaggle score of 0.1349 and a rank of 2234. This was the best performing model out of all the four models.\n",
    "\n",
    "3) Kernel Ridge Regression: \n",
    "\n",
    "This model did not give much accuracy as compared to other models. It gave Kaggle score of 0.3675. \n",
    "\n",
    "4) Lasso Regression:\n",
    "\n",
    "This model performed on the same lines as that of baseline Linear Regression and gave the accuracy of around 0.2138\n",
    "\n",
    "Hence, XGBoost gives the best result for the prediction of the test task.\n"
   ]
  },
  {
   "cell_type": "markdown",
   "metadata": {},
   "source": [
    "## Part 9 - Final Result"
   ]
  },
  {
   "cell_type": "markdown",
   "metadata": {},
   "source": [
    "Report the rank, score, number of entries, for your highest rank. Include a snapshot of your best score on the leaderboard as confirmation. Be sure to provide a link to your Kaggle profile. Make sure to include a screenshot of your ranking. Make sure your profile includes your face and affiliation with SBU."
   ]
  },
  {
   "cell_type": "markdown",
   "metadata": {},
   "source": [
    "Kaggle Link: https://www.kaggle.com/rutvikparekh"
   ]
  },
  {
   "cell_type": "markdown",
   "metadata": {},
   "source": [
    "Highest Rank: 2234"
   ]
  },
  {
   "cell_type": "markdown",
   "metadata": {},
   "source": [
    "Score: 0.13495"
   ]
  },
  {
   "cell_type": "markdown",
   "metadata": {},
   "source": [
    "Number of entries: 10"
   ]
  },
  {
   "attachments": {},
   "cell_type": "markdown",
   "metadata": {},
   "source": [
    "The screenshot of my ranking is uploaded on Google Drive.\n",
    "\n",
    "https://drive.google.com/file/d/1Yqk5MNLMGGpiv13kAPbWUPgAyGLjYzNB/view?usp=sharing"
   ]
  }
 ],
 "metadata": {
  "kernelspec": {
   "display_name": "Python 3",
   "language": "python",
   "name": "python3"
  },
  "language_info": {
   "codemirror_mode": {
    "name": "ipython",
    "version": 3
   },
   "file_extension": ".py",
   "mimetype": "text/x-python",
   "name": "python",
   "nbconvert_exporter": "python",
   "pygments_lexer": "ipython3",
   "version": "3.7.3"
  }
 },
 "nbformat": 4,
 "nbformat_minor": 2
}
